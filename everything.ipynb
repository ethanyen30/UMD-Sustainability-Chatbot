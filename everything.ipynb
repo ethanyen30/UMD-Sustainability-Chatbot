{
 "cells": [
  {
   "cell_type": "code",
   "execution_count": 13,
   "id": "283e723b",
   "metadata": {},
   "outputs": [],
   "source": [
    "from langsmith import traceable, utils\n",
    "from langchain_google_genai import ChatGoogleGenerativeAI, GoogleGenerativeAIEmbeddings\n",
    "from dotenv import load_dotenv\n",
    "import re\n",
    "import umd_rag\n",
    "import pineconing\n",
    "import umd_webscraper\n",
    "import my_utils\n",
    "\n",
    "import importlib"
   ]
  },
  {
   "cell_type": "code",
   "execution_count": 14,
   "id": "9eec7177",
   "metadata": {},
   "outputs": [
    {
     "data": {
      "text/plain": [
       "<module 'my_utils' from 'c:\\\\Users\\\\ethan\\\\Desktop\\\\umd\\\\s4 spring 2025\\\\HDCC209B\\\\UMD-Sustainability-Chatbot\\\\my_utils.py'>"
      ]
     },
     "execution_count": 14,
     "metadata": {},
     "output_type": "execute_result"
    }
   ],
   "source": [
    "importlib.reload(umd_rag)\n",
    "importlib.reload(pineconing)\n",
    "importlib.reload(umd_webscraper)\n",
    "importlib.reload(my_utils)"
   ]
  },
  {
   "cell_type": "markdown",
   "id": "caa620b9",
   "metadata": {},
   "source": [
    "Load environment variables from .env"
   ]
  },
  {
   "cell_type": "code",
   "execution_count": 15,
   "id": "ad2f134a",
   "metadata": {},
   "outputs": [
    {
     "data": {
      "text/plain": [
       "True"
      ]
     },
     "execution_count": 15,
     "metadata": {},
     "output_type": "execute_result"
    }
   ],
   "source": [
    "load_dotenv(override=True)"
   ]
  },
  {
   "cell_type": "markdown",
   "id": "c693773e",
   "metadata": {},
   "source": [
    "#### Web Scraping ####"
   ]
  },
  {
   "cell_type": "code",
   "execution_count": 4,
   "id": "2a57b573",
   "metadata": {},
   "outputs": [],
   "source": [
    "sites = [\"https://sustainability.umd.edu/\",\n",
    "         \"https://sustainingprogress.umd.edu/\"]"
   ]
  },
  {
   "cell_type": "code",
   "execution_count": 5,
   "id": "5114b31a",
   "metadata": {},
   "outputs": [],
   "source": [
    "def get_site_name(site):\n",
    "  site_re = re.compile(r'^https://([A-Za-z0-9]*).umd.edu/$')\n",
    "\n",
    "  matched = re.match(site_re, site)\n",
    "  if matched:\n",
    "    return matched.group(1)\n",
    "  else:\n",
    "    raise Exception(\"Not good site name (not umd)\")"
   ]
  },
  {
   "cell_type": "markdown",
   "id": "f77b6b42",
   "metadata": {},
   "source": [
    "Scrape all sites"
   ]
  },
  {
   "cell_type": "code",
   "execution_count": 6,
   "id": "087d2602",
   "metadata": {},
   "outputs": [
    {
     "name": "stdout",
     "output_type": "stream",
     "text": [
      "Scraping: https://sustainability.umd.edu/\n",
      "Scraping: https://sustainability.umd.edu/education-and-research/majors-minors-graduate-programs\n",
      "Scraping: https://sustainability.umd.edu/food\n",
      "Scraping: https://sustainability.umd.edu/transportation\n",
      "Scraping: https://sustainability.umd.edu/topics\n",
      "Scraping: https://sustainability.umd.edu/sustainability-education-research\n",
      "Scraping: https://sustainability.umd.edu/OS\n",
      "Scraping: https://sustainability.umd.edu/about/office-sustainability/quinn-lugenbeel\n",
      "Scraping: https://sustainability.umd.edu/energy\n",
      "Scraping: https://sustainability.umd.edu/sustainability-grants/umd-sustainability-mini-grant\n",
      "Scraping: https://sustainability.umd.edu/about\n",
      "Scraping: https://sustainability.umd.edu/advisors\n",
      "Scraping: https://sustainability.umd.edu/about/contact-us\n",
      "Scraping: https://sustainability.umd.edu/sustainability-grants/umd-sustainability-fund-grant\n",
      "Scraping: https://sustainability.umd.edu/sustainability-grants/other-funding-sources\n",
      "Scraping: https://sustainability.umd.edu/progress-commitments\n",
      "Scraping: https://sustainability.umd.edu/about/sustainability-council\n",
      "Scraping: https://sustainability.umd.edu/education-and-research/research-centers\n",
      "Scraping: https://sustainability.umd.edu/get-involved\n",
      "Scraping: https://sustainability.umd.edu/internships-opportunities\n",
      "Scraping: https://sustainability.umd.edu/get-involved/students/become-green-terp\n",
      "Scraping: https://sustainability.umd.edu/ambassadors\n",
      "Scraping: https://sustainability.umd.edu/student-groups\n",
      "Scraping: https://sustainability.umd.edu/progress/reports-other-resources\n",
      "Scraping: https://sustainability.umd.edu/progress/carbon-offsets\n",
      "Scraping: https://sustainability.umd.edu/buildings\n",
      "Scraping: https://sustainability.umd.edu/water\n",
      "Scraping: https://sustainability.umd.edu/topics/water/reusable-water-bottle-filling-stations\n",
      "Scraping: https://sustainability.umd.edu/grants\n",
      "Scraping: https://sustainability.umd.edu/about/sustainability-fund/grant-recipients\n",
      "Scraping: https://sustainability.umd.edu/education-and-research/living-learning-programs\n",
      "Scraping: https://sustainability.umd.edu/education-and-research/sustainability-teaching-fellows\n",
      "Failed to fetch https://sustainability.umd.edu/education-and-research/sustainability-teaching-fellows: 403 Client Error: Forbidden for url: https://sustainability.umd.edu/education-and-research/archive-sustainability-teaching-fellows\n",
      "Scraping: https://sustainability.umd.edu/education-and-research/student-projects\n",
      "Scraping: https://sustainability.umd.edu/news\n",
      "Scraping: https://sustainability.umd.edu/about/donate\n",
      "Scraping: https://sustainability.umd.edu/about/sustainableumd-network\n",
      "Scraping: https://sustainability.umd.edu/green-purchasing\n",
      "Scraping: https://sustainability.umd.edu/waste\n",
      "Scraping: https://sustainability.umd.edu/topics/waste/how-sort-recycle-compost-landfill-bins\n",
      "Scraping: https://sustainability.umd.edu/landscape\n",
      "Scraping: https://sustainability.umd.edu/campus/waste/campus-race-zero-waste\n",
      "Scraping: https://sustainability.umd.edu/compost\n",
      "Scraping: https://sustainability.umd.edu/topics/waste/residential-waste\n",
      "Scraping: https://sustainability.umd.edu/topics/waste/compost/accepted-compostable-bags\n",
      "Scraping: https://sustainability.umd.edu/topics/waste/can-can-mini-bin-program\n",
      "Scraping: https://sustainability.umd.edu/about/grants\n",
      "Failed to fetch https://sustainability.umd.edu/about/grants: 403 Client Error: Forbidden for url: https://sustainability.umd.edu/about/grants\n",
      "Scraping: https://sustainability.umd.edu/umd-sustainability-fund-grant\n",
      "Scraping: https://sustainability.umd.edu/node/433\n",
      "Scraping: https://sustainability.umd.edu/about/office-sustainability/caroline-johnson-0\n",
      "Scraping: https://sustainability.umd.edu/about/office-sustainability/solana-page-0\n",
      "Scraping: https://sustainability.umd.edu/progress/climate-action-plan\n",
      "Scraping: https://sustainability.umd.edu/measuring-progress/waste-minimization\n",
      "Failed to fetch https://sustainability.umd.edu/measuring-progress/waste-minimization: 404 Client Error: Not Found for url: https://sustainability.umd.edu/measuring-progress/waste-minimization\n",
      "Scraping: https://sustainability.umd.edu/climate-research\n",
      "Failed to fetch https://sustainability.umd.edu/climate-research: 404 Client Error: Not Found for url: https://sustainability.umd.edu/climate-research\n",
      "Scraping: https://sustainability.umd.edu/celebrating-stories/sustainableumd-news\n",
      "Failed to fetch https://sustainability.umd.edu/celebrating-stories/sustainableumd-news: 404 Client Error: Not Found for url: https://sustainability.umd.edu/celebrating-stories/sustainableumd-news\n",
      "Scraping: https://sustainability.umd.edu/partnering-goals/sdg-13\n",
      "Failed to fetch https://sustainability.umd.edu/partnering-goals/sdg-13: 404 Client Error: Not Found for url: https://sustainability.umd.edu/partnering-goals/sdg-13\n",
      "Scraping: https://sustainability.umd.edu/partnering-goals/sdg-4\n",
      "Failed to fetch https://sustainability.umd.edu/partnering-goals/sdg-4: 404 Client Error: Not Found for url: https://sustainability.umd.edu/partnering-goals/sdg-4\n",
      "Scraping: https://sustainability.umd.edu/celebrating-stories/sustainability-maryland-today\n",
      "Failed to fetch https://sustainability.umd.edu/celebrating-stories/sustainability-maryland-today: 404 Client Error: Not Found for url: https://sustainability.umd.edu/celebrating-stories/sustainability-maryland-today\n",
      "Scraping: https://sustainability.umd.edu/climate-resources\n",
      "Failed to fetch https://sustainability.umd.edu/climate-resources: 404 Client Error: Not Found for url: https://sustainability.umd.edu/climate-resources\n",
      "Scraping: https://sustainability.umd.edu/guiding-commitments/climate-action-plan/resilience-changing-climate\n",
      "Failed to fetch https://sustainability.umd.edu/guiding-commitments/climate-action-plan/resilience-changing-climate: 404 Client Error: Not Found for url: https://sustainability.umd.edu/guiding-commitments/climate-action-plan/resilience-changing-climate\n",
      "Scraping: https://sustainability.umd.edu/measuring-progress/education-sustainability\n",
      "Failed to fetch https://sustainability.umd.edu/measuring-progress/education-sustainability: 404 Client Error: Not Found for url: https://sustainability.umd.edu/measuring-progress/education-sustainability\n",
      "Scraping: https://sustainability.umd.edu/partnering-goals/sdg-15\n",
      "Failed to fetch https://sustainability.umd.edu/partnering-goals/sdg-15: 404 Client Error: Not Found for url: https://sustainability.umd.edu/partnering-goals/sdg-15\n",
      "Scraping: https://sustainability.umd.edu/measuring-progress/sustainable-water-use\n"
     ]
    },
    {
     "ename": "KeyboardInterrupt",
     "evalue": "",
     "output_type": "error",
     "traceback": [
      "\u001b[31m---------------------------------------------------------------------------\u001b[39m",
      "\u001b[31mKeyboardInterrupt\u001b[39m                         Traceback (most recent call last)",
      "\u001b[36mCell\u001b[39m\u001b[36m \u001b[39m\u001b[32mIn[6]\u001b[39m\u001b[32m, line 5\u001b[39m\n\u001b[32m      3\u001b[39m \u001b[38;5;28;01mfor\u001b[39;00m site \u001b[38;5;129;01min\u001b[39;00m sites:\n\u001b[32m      4\u001b[39m   scraper = umd_webscraper.UMDWebScraper(site)\n\u001b[32m----> \u001b[39m\u001b[32m5\u001b[39m   \u001b[43mscraper\u001b[49m\u001b[43m.\u001b[49m\u001b[43mscrape\u001b[49m\u001b[43m(\u001b[49m\u001b[43msite\u001b[49m\u001b[43m)\u001b[49m\n\u001b[32m      7\u001b[39m   site_name = get_site_name(site)\n\u001b[32m      8\u001b[39m   \u001b[38;5;28mprint\u001b[39m(\u001b[33mf\u001b[39m\u001b[33m\"\u001b[39m\u001b[33mTotal for \u001b[39m\u001b[38;5;132;01m{\u001b[39;00msite_name\u001b[38;5;132;01m}\u001b[39;00m\u001b[33m site: \u001b[39m\u001b[38;5;132;01m{\u001b[39;00m\u001b[38;5;28mlen\u001b[39m(scraper.data)\u001b[38;5;132;01m}\u001b[39;00m\u001b[33m\"\u001b[39m)\n",
      "\u001b[36mFile \u001b[39m\u001b[32mc:\\Users\\ethan\\Desktop\\umd\\s4 spring 2025\\HDCC209B\\UMD-Sustainability-Chatbot\\umd_webscraper.py:66\u001b[39m, in \u001b[36mUMDWebScraper.scrape\u001b[39m\u001b[34m(self, url)\u001b[39m\n\u001b[32m     64\u001b[39m new_links = \u001b[38;5;28mself\u001b[39m.extract_links(soup, url)\n\u001b[32m     65\u001b[39m \u001b[38;5;28;01mfor\u001b[39;00m link \u001b[38;5;129;01min\u001b[39;00m new_links:\n\u001b[32m---> \u001b[39m\u001b[32m66\u001b[39m     \u001b[38;5;28;43mself\u001b[39;49m\u001b[43m.\u001b[49m\u001b[43mscrape\u001b[49m\u001b[43m(\u001b[49m\u001b[43mlink\u001b[49m\u001b[43m)\u001b[49m\n",
      "\u001b[36mFile \u001b[39m\u001b[32mc:\\Users\\ethan\\Desktop\\umd\\s4 spring 2025\\HDCC209B\\UMD-Sustainability-Chatbot\\umd_webscraper.py:66\u001b[39m, in \u001b[36mUMDWebScraper.scrape\u001b[39m\u001b[34m(self, url)\u001b[39m\n\u001b[32m     64\u001b[39m new_links = \u001b[38;5;28mself\u001b[39m.extract_links(soup, url)\n\u001b[32m     65\u001b[39m \u001b[38;5;28;01mfor\u001b[39;00m link \u001b[38;5;129;01min\u001b[39;00m new_links:\n\u001b[32m---> \u001b[39m\u001b[32m66\u001b[39m     \u001b[38;5;28;43mself\u001b[39;49m\u001b[43m.\u001b[49m\u001b[43mscrape\u001b[49m\u001b[43m(\u001b[49m\u001b[43mlink\u001b[49m\u001b[43m)\u001b[49m\n",
      "    \u001b[31m[... skipping similar frames: UMDWebScraper.scrape at line 66 (29 times)]\u001b[39m\n",
      "\u001b[36mFile \u001b[39m\u001b[32mc:\\Users\\ethan\\Desktop\\umd\\s4 spring 2025\\HDCC209B\\UMD-Sustainability-Chatbot\\umd_webscraper.py:66\u001b[39m, in \u001b[36mUMDWebScraper.scrape\u001b[39m\u001b[34m(self, url)\u001b[39m\n\u001b[32m     64\u001b[39m new_links = \u001b[38;5;28mself\u001b[39m.extract_links(soup, url)\n\u001b[32m     65\u001b[39m \u001b[38;5;28;01mfor\u001b[39;00m link \u001b[38;5;129;01min\u001b[39;00m new_links:\n\u001b[32m---> \u001b[39m\u001b[32m66\u001b[39m     \u001b[38;5;28;43mself\u001b[39;49m\u001b[43m.\u001b[49m\u001b[43mscrape\u001b[49m\u001b[43m(\u001b[49m\u001b[43mlink\u001b[49m\u001b[43m)\u001b[49m\n",
      "\u001b[36mFile \u001b[39m\u001b[32mc:\\Users\\ethan\\Desktop\\umd\\s4 spring 2025\\HDCC209B\\UMD-Sustainability-Chatbot\\umd_webscraper.py:54\u001b[39m, in \u001b[36mUMDWebScraper.scrape\u001b[39m\u001b[34m(self, url)\u001b[39m\n\u001b[32m     51\u001b[39m \u001b[38;5;28mprint\u001b[39m(\u001b[33mf\u001b[39m\u001b[33m\"\u001b[39m\u001b[33mScraping: \u001b[39m\u001b[38;5;132;01m{\u001b[39;00murl\u001b[38;5;132;01m}\u001b[39;00m\u001b[33m\"\u001b[39m)\n\u001b[32m     52\u001b[39m \u001b[38;5;28mself\u001b[39m.visited_links.add(url)\n\u001b[32m---> \u001b[39m\u001b[32m54\u001b[39m soup = \u001b[38;5;28;43mself\u001b[39;49m\u001b[43m.\u001b[49m\u001b[43mfetch_page\u001b[49m\u001b[43m(\u001b[49m\u001b[43murl\u001b[49m\u001b[43m)\u001b[49m\n\u001b[32m     55\u001b[39m \u001b[38;5;28;01mif\u001b[39;00m \u001b[38;5;129;01mnot\u001b[39;00m soup:\n\u001b[32m     56\u001b[39m     \u001b[38;5;28;01mreturn\u001b[39;00m\n",
      "\u001b[36mFile \u001b[39m\u001b[32mc:\\Users\\ethan\\Desktop\\umd\\s4 spring 2025\\HDCC209B\\UMD-Sustainability-Chatbot\\umd_webscraper.py:20\u001b[39m, in \u001b[36mUMDWebScraper.fetch_page\u001b[39m\u001b[34m(self, url)\u001b[39m\n\u001b[32m     18\u001b[39m \u001b[38;5;28;01mdef\u001b[39;00m\u001b[38;5;250m \u001b[39m\u001b[34mfetch_page\u001b[39m(\u001b[38;5;28mself\u001b[39m, url):\n\u001b[32m     19\u001b[39m     \u001b[38;5;28;01mtry\u001b[39;00m:\n\u001b[32m---> \u001b[39m\u001b[32m20\u001b[39m         response = \u001b[43mrequests\u001b[49m\u001b[43m.\u001b[49m\u001b[43mget\u001b[49m\u001b[43m(\u001b[49m\u001b[43murl\u001b[49m\u001b[43m,\u001b[49m\u001b[43m \u001b[49m\u001b[43mtimeout\u001b[49m\u001b[43m=\u001b[49m\u001b[32;43m10\u001b[39;49m\u001b[43m)\u001b[49m\n\u001b[32m     21\u001b[39m         response.raise_for_status()\n\u001b[32m     22\u001b[39m         \u001b[38;5;28;01mreturn\u001b[39;00m BeautifulSoup(response.text, \u001b[33m\"\u001b[39m\u001b[33mhtml.parser\u001b[39m\u001b[33m\"\u001b[39m)\n",
      "\u001b[36mFile \u001b[39m\u001b[32mc:\\Users\\ethan\\Desktop\\umd\\s4 spring 2025\\HDCC209B\\UMD-Sustainability-Chatbot\\venv\\Lib\\site-packages\\requests\\api.py:73\u001b[39m, in \u001b[36mget\u001b[39m\u001b[34m(url, params, **kwargs)\u001b[39m\n\u001b[32m     62\u001b[39m \u001b[38;5;28;01mdef\u001b[39;00m\u001b[38;5;250m \u001b[39m\u001b[34mget\u001b[39m(url, params=\u001b[38;5;28;01mNone\u001b[39;00m, **kwargs):\n\u001b[32m     63\u001b[39m \u001b[38;5;250m    \u001b[39m\u001b[33mr\u001b[39m\u001b[33;03m\"\"\"Sends a GET request.\u001b[39;00m\n\u001b[32m     64\u001b[39m \n\u001b[32m     65\u001b[39m \u001b[33;03m    :param url: URL for the new :class:`Request` object.\u001b[39;00m\n\u001b[32m   (...)\u001b[39m\u001b[32m     70\u001b[39m \u001b[33;03m    :rtype: requests.Response\u001b[39;00m\n\u001b[32m     71\u001b[39m \u001b[33;03m    \"\"\"\u001b[39;00m\n\u001b[32m---> \u001b[39m\u001b[32m73\u001b[39m     \u001b[38;5;28;01mreturn\u001b[39;00m \u001b[43mrequest\u001b[49m\u001b[43m(\u001b[49m\u001b[33;43m\"\u001b[39;49m\u001b[33;43mget\u001b[39;49m\u001b[33;43m\"\u001b[39;49m\u001b[43m,\u001b[49m\u001b[43m \u001b[49m\u001b[43murl\u001b[49m\u001b[43m,\u001b[49m\u001b[43m \u001b[49m\u001b[43mparams\u001b[49m\u001b[43m=\u001b[49m\u001b[43mparams\u001b[49m\u001b[43m,\u001b[49m\u001b[43m \u001b[49m\u001b[43m*\u001b[49m\u001b[43m*\u001b[49m\u001b[43mkwargs\u001b[49m\u001b[43m)\u001b[49m\n",
      "\u001b[36mFile \u001b[39m\u001b[32mc:\\Users\\ethan\\Desktop\\umd\\s4 spring 2025\\HDCC209B\\UMD-Sustainability-Chatbot\\venv\\Lib\\site-packages\\requests\\api.py:59\u001b[39m, in \u001b[36mrequest\u001b[39m\u001b[34m(method, url, **kwargs)\u001b[39m\n\u001b[32m     55\u001b[39m \u001b[38;5;66;03m# By using the 'with' statement we are sure the session is closed, thus we\u001b[39;00m\n\u001b[32m     56\u001b[39m \u001b[38;5;66;03m# avoid leaving sockets open which can trigger a ResourceWarning in some\u001b[39;00m\n\u001b[32m     57\u001b[39m \u001b[38;5;66;03m# cases, and look like a memory leak in others.\u001b[39;00m\n\u001b[32m     58\u001b[39m \u001b[38;5;28;01mwith\u001b[39;00m sessions.Session() \u001b[38;5;28;01mas\u001b[39;00m session:\n\u001b[32m---> \u001b[39m\u001b[32m59\u001b[39m     \u001b[38;5;28;01mreturn\u001b[39;00m \u001b[43msession\u001b[49m\u001b[43m.\u001b[49m\u001b[43mrequest\u001b[49m\u001b[43m(\u001b[49m\u001b[43mmethod\u001b[49m\u001b[43m=\u001b[49m\u001b[43mmethod\u001b[49m\u001b[43m,\u001b[49m\u001b[43m \u001b[49m\u001b[43murl\u001b[49m\u001b[43m=\u001b[49m\u001b[43murl\u001b[49m\u001b[43m,\u001b[49m\u001b[43m \u001b[49m\u001b[43m*\u001b[49m\u001b[43m*\u001b[49m\u001b[43mkwargs\u001b[49m\u001b[43m)\u001b[49m\n",
      "\u001b[36mFile \u001b[39m\u001b[32mc:\\Users\\ethan\\Desktop\\umd\\s4 spring 2025\\HDCC209B\\UMD-Sustainability-Chatbot\\venv\\Lib\\site-packages\\requests\\sessions.py:589\u001b[39m, in \u001b[36mSession.request\u001b[39m\u001b[34m(self, method, url, params, data, headers, cookies, files, auth, timeout, allow_redirects, proxies, hooks, stream, verify, cert, json)\u001b[39m\n\u001b[32m    584\u001b[39m send_kwargs = {\n\u001b[32m    585\u001b[39m     \u001b[33m\"\u001b[39m\u001b[33mtimeout\u001b[39m\u001b[33m\"\u001b[39m: timeout,\n\u001b[32m    586\u001b[39m     \u001b[33m\"\u001b[39m\u001b[33mallow_redirects\u001b[39m\u001b[33m\"\u001b[39m: allow_redirects,\n\u001b[32m    587\u001b[39m }\n\u001b[32m    588\u001b[39m send_kwargs.update(settings)\n\u001b[32m--> \u001b[39m\u001b[32m589\u001b[39m resp = \u001b[38;5;28;43mself\u001b[39;49m\u001b[43m.\u001b[49m\u001b[43msend\u001b[49m\u001b[43m(\u001b[49m\u001b[43mprep\u001b[49m\u001b[43m,\u001b[49m\u001b[43m \u001b[49m\u001b[43m*\u001b[49m\u001b[43m*\u001b[49m\u001b[43msend_kwargs\u001b[49m\u001b[43m)\u001b[49m\n\u001b[32m    591\u001b[39m \u001b[38;5;28;01mreturn\u001b[39;00m resp\n",
      "\u001b[36mFile \u001b[39m\u001b[32mc:\\Users\\ethan\\Desktop\\umd\\s4 spring 2025\\HDCC209B\\UMD-Sustainability-Chatbot\\venv\\Lib\\site-packages\\requests\\sessions.py:703\u001b[39m, in \u001b[36mSession.send\u001b[39m\u001b[34m(self, request, **kwargs)\u001b[39m\n\u001b[32m    700\u001b[39m start = preferred_clock()\n\u001b[32m    702\u001b[39m \u001b[38;5;66;03m# Send the request\u001b[39;00m\n\u001b[32m--> \u001b[39m\u001b[32m703\u001b[39m r = \u001b[43madapter\u001b[49m\u001b[43m.\u001b[49m\u001b[43msend\u001b[49m\u001b[43m(\u001b[49m\u001b[43mrequest\u001b[49m\u001b[43m,\u001b[49m\u001b[43m \u001b[49m\u001b[43m*\u001b[49m\u001b[43m*\u001b[49m\u001b[43mkwargs\u001b[49m\u001b[43m)\u001b[49m\n\u001b[32m    705\u001b[39m \u001b[38;5;66;03m# Total elapsed time of the request (approximately)\u001b[39;00m\n\u001b[32m    706\u001b[39m elapsed = preferred_clock() - start\n",
      "\u001b[36mFile \u001b[39m\u001b[32mc:\\Users\\ethan\\Desktop\\umd\\s4 spring 2025\\HDCC209B\\UMD-Sustainability-Chatbot\\venv\\Lib\\site-packages\\requests\\adapters.py:667\u001b[39m, in \u001b[36mHTTPAdapter.send\u001b[39m\u001b[34m(self, request, stream, timeout, verify, cert, proxies)\u001b[39m\n\u001b[32m    664\u001b[39m     timeout = TimeoutSauce(connect=timeout, read=timeout)\n\u001b[32m    666\u001b[39m \u001b[38;5;28;01mtry\u001b[39;00m:\n\u001b[32m--> \u001b[39m\u001b[32m667\u001b[39m     resp = \u001b[43mconn\u001b[49m\u001b[43m.\u001b[49m\u001b[43murlopen\u001b[49m\u001b[43m(\u001b[49m\n\u001b[32m    668\u001b[39m \u001b[43m        \u001b[49m\u001b[43mmethod\u001b[49m\u001b[43m=\u001b[49m\u001b[43mrequest\u001b[49m\u001b[43m.\u001b[49m\u001b[43mmethod\u001b[49m\u001b[43m,\u001b[49m\n\u001b[32m    669\u001b[39m \u001b[43m        \u001b[49m\u001b[43murl\u001b[49m\u001b[43m=\u001b[49m\u001b[43murl\u001b[49m\u001b[43m,\u001b[49m\n\u001b[32m    670\u001b[39m \u001b[43m        \u001b[49m\u001b[43mbody\u001b[49m\u001b[43m=\u001b[49m\u001b[43mrequest\u001b[49m\u001b[43m.\u001b[49m\u001b[43mbody\u001b[49m\u001b[43m,\u001b[49m\n\u001b[32m    671\u001b[39m \u001b[43m        \u001b[49m\u001b[43mheaders\u001b[49m\u001b[43m=\u001b[49m\u001b[43mrequest\u001b[49m\u001b[43m.\u001b[49m\u001b[43mheaders\u001b[49m\u001b[43m,\u001b[49m\n\u001b[32m    672\u001b[39m \u001b[43m        \u001b[49m\u001b[43mredirect\u001b[49m\u001b[43m=\u001b[49m\u001b[38;5;28;43;01mFalse\u001b[39;49;00m\u001b[43m,\u001b[49m\n\u001b[32m    673\u001b[39m \u001b[43m        \u001b[49m\u001b[43massert_same_host\u001b[49m\u001b[43m=\u001b[49m\u001b[38;5;28;43;01mFalse\u001b[39;49;00m\u001b[43m,\u001b[49m\n\u001b[32m    674\u001b[39m \u001b[43m        \u001b[49m\u001b[43mpreload_content\u001b[49m\u001b[43m=\u001b[49m\u001b[38;5;28;43;01mFalse\u001b[39;49;00m\u001b[43m,\u001b[49m\n\u001b[32m    675\u001b[39m \u001b[43m        \u001b[49m\u001b[43mdecode_content\u001b[49m\u001b[43m=\u001b[49m\u001b[38;5;28;43;01mFalse\u001b[39;49;00m\u001b[43m,\u001b[49m\n\u001b[32m    676\u001b[39m \u001b[43m        \u001b[49m\u001b[43mretries\u001b[49m\u001b[43m=\u001b[49m\u001b[38;5;28;43mself\u001b[39;49m\u001b[43m.\u001b[49m\u001b[43mmax_retries\u001b[49m\u001b[43m,\u001b[49m\n\u001b[32m    677\u001b[39m \u001b[43m        \u001b[49m\u001b[43mtimeout\u001b[49m\u001b[43m=\u001b[49m\u001b[43mtimeout\u001b[49m\u001b[43m,\u001b[49m\n\u001b[32m    678\u001b[39m \u001b[43m        \u001b[49m\u001b[43mchunked\u001b[49m\u001b[43m=\u001b[49m\u001b[43mchunked\u001b[49m\u001b[43m,\u001b[49m\n\u001b[32m    679\u001b[39m \u001b[43m    \u001b[49m\u001b[43m)\u001b[49m\n\u001b[32m    681\u001b[39m \u001b[38;5;28;01mexcept\u001b[39;00m (ProtocolError, \u001b[38;5;167;01mOSError\u001b[39;00m) \u001b[38;5;28;01mas\u001b[39;00m err:\n\u001b[32m    682\u001b[39m     \u001b[38;5;28;01mraise\u001b[39;00m \u001b[38;5;167;01mConnectionError\u001b[39;00m(err, request=request)\n",
      "\u001b[36mFile \u001b[39m\u001b[32mc:\\Users\\ethan\\Desktop\\umd\\s4 spring 2025\\HDCC209B\\UMD-Sustainability-Chatbot\\venv\\Lib\\site-packages\\urllib3\\connectionpool.py:787\u001b[39m, in \u001b[36mHTTPConnectionPool.urlopen\u001b[39m\u001b[34m(self, method, url, body, headers, retries, redirect, assert_same_host, timeout, pool_timeout, release_conn, chunked, body_pos, preload_content, decode_content, **response_kw)\u001b[39m\n\u001b[32m    784\u001b[39m response_conn = conn \u001b[38;5;28;01mif\u001b[39;00m \u001b[38;5;129;01mnot\u001b[39;00m release_conn \u001b[38;5;28;01melse\u001b[39;00m \u001b[38;5;28;01mNone\u001b[39;00m\n\u001b[32m    786\u001b[39m \u001b[38;5;66;03m# Make the request on the HTTPConnection object\u001b[39;00m\n\u001b[32m--> \u001b[39m\u001b[32m787\u001b[39m response = \u001b[38;5;28;43mself\u001b[39;49m\u001b[43m.\u001b[49m\u001b[43m_make_request\u001b[49m\u001b[43m(\u001b[49m\n\u001b[32m    788\u001b[39m \u001b[43m    \u001b[49m\u001b[43mconn\u001b[49m\u001b[43m,\u001b[49m\n\u001b[32m    789\u001b[39m \u001b[43m    \u001b[49m\u001b[43mmethod\u001b[49m\u001b[43m,\u001b[49m\n\u001b[32m    790\u001b[39m \u001b[43m    \u001b[49m\u001b[43murl\u001b[49m\u001b[43m,\u001b[49m\n\u001b[32m    791\u001b[39m \u001b[43m    \u001b[49m\u001b[43mtimeout\u001b[49m\u001b[43m=\u001b[49m\u001b[43mtimeout_obj\u001b[49m\u001b[43m,\u001b[49m\n\u001b[32m    792\u001b[39m \u001b[43m    \u001b[49m\u001b[43mbody\u001b[49m\u001b[43m=\u001b[49m\u001b[43mbody\u001b[49m\u001b[43m,\u001b[49m\n\u001b[32m    793\u001b[39m \u001b[43m    \u001b[49m\u001b[43mheaders\u001b[49m\u001b[43m=\u001b[49m\u001b[43mheaders\u001b[49m\u001b[43m,\u001b[49m\n\u001b[32m    794\u001b[39m \u001b[43m    \u001b[49m\u001b[43mchunked\u001b[49m\u001b[43m=\u001b[49m\u001b[43mchunked\u001b[49m\u001b[43m,\u001b[49m\n\u001b[32m    795\u001b[39m \u001b[43m    \u001b[49m\u001b[43mretries\u001b[49m\u001b[43m=\u001b[49m\u001b[43mretries\u001b[49m\u001b[43m,\u001b[49m\n\u001b[32m    796\u001b[39m \u001b[43m    \u001b[49m\u001b[43mresponse_conn\u001b[49m\u001b[43m=\u001b[49m\u001b[43mresponse_conn\u001b[49m\u001b[43m,\u001b[49m\n\u001b[32m    797\u001b[39m \u001b[43m    \u001b[49m\u001b[43mpreload_content\u001b[49m\u001b[43m=\u001b[49m\u001b[43mpreload_content\u001b[49m\u001b[43m,\u001b[49m\n\u001b[32m    798\u001b[39m \u001b[43m    \u001b[49m\u001b[43mdecode_content\u001b[49m\u001b[43m=\u001b[49m\u001b[43mdecode_content\u001b[49m\u001b[43m,\u001b[49m\n\u001b[32m    799\u001b[39m \u001b[43m    \u001b[49m\u001b[43m*\u001b[49m\u001b[43m*\u001b[49m\u001b[43mresponse_kw\u001b[49m\u001b[43m,\u001b[49m\n\u001b[32m    800\u001b[39m \u001b[43m\u001b[49m\u001b[43m)\u001b[49m\n\u001b[32m    802\u001b[39m \u001b[38;5;66;03m# Everything went great!\u001b[39;00m\n\u001b[32m    803\u001b[39m clean_exit = \u001b[38;5;28;01mTrue\u001b[39;00m\n",
      "\u001b[36mFile \u001b[39m\u001b[32mc:\\Users\\ethan\\Desktop\\umd\\s4 spring 2025\\HDCC209B\\UMD-Sustainability-Chatbot\\venv\\Lib\\site-packages\\urllib3\\connectionpool.py:534\u001b[39m, in \u001b[36mHTTPConnectionPool._make_request\u001b[39m\u001b[34m(self, conn, method, url, body, headers, retries, timeout, chunked, response_conn, preload_content, decode_content, enforce_content_length)\u001b[39m\n\u001b[32m    532\u001b[39m \u001b[38;5;66;03m# Receive the response from the server\u001b[39;00m\n\u001b[32m    533\u001b[39m \u001b[38;5;28;01mtry\u001b[39;00m:\n\u001b[32m--> \u001b[39m\u001b[32m534\u001b[39m     response = \u001b[43mconn\u001b[49m\u001b[43m.\u001b[49m\u001b[43mgetresponse\u001b[49m\u001b[43m(\u001b[49m\u001b[43m)\u001b[49m\n\u001b[32m    535\u001b[39m \u001b[38;5;28;01mexcept\u001b[39;00m (BaseSSLError, \u001b[38;5;167;01mOSError\u001b[39;00m) \u001b[38;5;28;01mas\u001b[39;00m e:\n\u001b[32m    536\u001b[39m     \u001b[38;5;28mself\u001b[39m._raise_timeout(err=e, url=url, timeout_value=read_timeout)\n",
      "\u001b[36mFile \u001b[39m\u001b[32mc:\\Users\\ethan\\Desktop\\umd\\s4 spring 2025\\HDCC209B\\UMD-Sustainability-Chatbot\\venv\\Lib\\site-packages\\urllib3\\connection.py:516\u001b[39m, in \u001b[36mHTTPConnection.getresponse\u001b[39m\u001b[34m(self)\u001b[39m\n\u001b[32m    513\u001b[39m _shutdown = \u001b[38;5;28mgetattr\u001b[39m(\u001b[38;5;28mself\u001b[39m.sock, \u001b[33m\"\u001b[39m\u001b[33mshutdown\u001b[39m\u001b[33m\"\u001b[39m, \u001b[38;5;28;01mNone\u001b[39;00m)\n\u001b[32m    515\u001b[39m \u001b[38;5;66;03m# Get the response from http.client.HTTPConnection\u001b[39;00m\n\u001b[32m--> \u001b[39m\u001b[32m516\u001b[39m httplib_response = \u001b[38;5;28;43msuper\u001b[39;49m\u001b[43m(\u001b[49m\u001b[43m)\u001b[49m\u001b[43m.\u001b[49m\u001b[43mgetresponse\u001b[49m\u001b[43m(\u001b[49m\u001b[43m)\u001b[49m\n\u001b[32m    518\u001b[39m \u001b[38;5;28;01mtry\u001b[39;00m:\n\u001b[32m    519\u001b[39m     assert_header_parsing(httplib_response.msg)\n",
      "\u001b[36mFile \u001b[39m\u001b[32mC:\\Program Files\\WindowsApps\\PythonSoftwareFoundation.Python.3.12_3.12.2800.0_x64__qbz5n2kfra8p0\\Lib\\http\\client.py:1430\u001b[39m, in \u001b[36mHTTPConnection.getresponse\u001b[39m\u001b[34m(self)\u001b[39m\n\u001b[32m   1428\u001b[39m \u001b[38;5;28;01mtry\u001b[39;00m:\n\u001b[32m   1429\u001b[39m     \u001b[38;5;28;01mtry\u001b[39;00m:\n\u001b[32m-> \u001b[39m\u001b[32m1430\u001b[39m         \u001b[43mresponse\u001b[49m\u001b[43m.\u001b[49m\u001b[43mbegin\u001b[49m\u001b[43m(\u001b[49m\u001b[43m)\u001b[49m\n\u001b[32m   1431\u001b[39m     \u001b[38;5;28;01mexcept\u001b[39;00m \u001b[38;5;167;01mConnectionError\u001b[39;00m:\n\u001b[32m   1432\u001b[39m         \u001b[38;5;28mself\u001b[39m.close()\n",
      "\u001b[36mFile \u001b[39m\u001b[32mC:\\Program Files\\WindowsApps\\PythonSoftwareFoundation.Python.3.12_3.12.2800.0_x64__qbz5n2kfra8p0\\Lib\\http\\client.py:331\u001b[39m, in \u001b[36mHTTPResponse.begin\u001b[39m\u001b[34m(self)\u001b[39m\n\u001b[32m    329\u001b[39m \u001b[38;5;66;03m# read until we get a non-100 response\u001b[39;00m\n\u001b[32m    330\u001b[39m \u001b[38;5;28;01mwhile\u001b[39;00m \u001b[38;5;28;01mTrue\u001b[39;00m:\n\u001b[32m--> \u001b[39m\u001b[32m331\u001b[39m     version, status, reason = \u001b[38;5;28;43mself\u001b[39;49m\u001b[43m.\u001b[49m\u001b[43m_read_status\u001b[49m\u001b[43m(\u001b[49m\u001b[43m)\u001b[49m\n\u001b[32m    332\u001b[39m     \u001b[38;5;28;01mif\u001b[39;00m status != CONTINUE:\n\u001b[32m    333\u001b[39m         \u001b[38;5;28;01mbreak\u001b[39;00m\n",
      "\u001b[36mFile \u001b[39m\u001b[32mC:\\Program Files\\WindowsApps\\PythonSoftwareFoundation.Python.3.12_3.12.2800.0_x64__qbz5n2kfra8p0\\Lib\\http\\client.py:292\u001b[39m, in \u001b[36mHTTPResponse._read_status\u001b[39m\u001b[34m(self)\u001b[39m\n\u001b[32m    291\u001b[39m \u001b[38;5;28;01mdef\u001b[39;00m\u001b[38;5;250m \u001b[39m\u001b[34m_read_status\u001b[39m(\u001b[38;5;28mself\u001b[39m):\n\u001b[32m--> \u001b[39m\u001b[32m292\u001b[39m     line = \u001b[38;5;28mstr\u001b[39m(\u001b[38;5;28;43mself\u001b[39;49m\u001b[43m.\u001b[49m\u001b[43mfp\u001b[49m\u001b[43m.\u001b[49m\u001b[43mreadline\u001b[49m\u001b[43m(\u001b[49m\u001b[43m_MAXLINE\u001b[49m\u001b[43m \u001b[49m\u001b[43m+\u001b[49m\u001b[43m \u001b[49m\u001b[32;43m1\u001b[39;49m\u001b[43m)\u001b[49m, \u001b[33m\"\u001b[39m\u001b[33miso-8859-1\u001b[39m\u001b[33m\"\u001b[39m)\n\u001b[32m    293\u001b[39m     \u001b[38;5;28;01mif\u001b[39;00m \u001b[38;5;28mlen\u001b[39m(line) > _MAXLINE:\n\u001b[32m    294\u001b[39m         \u001b[38;5;28;01mraise\u001b[39;00m LineTooLong(\u001b[33m\"\u001b[39m\u001b[33mstatus line\u001b[39m\u001b[33m\"\u001b[39m)\n",
      "\u001b[36mFile \u001b[39m\u001b[32mC:\\Program Files\\WindowsApps\\PythonSoftwareFoundation.Python.3.12_3.12.2800.0_x64__qbz5n2kfra8p0\\Lib\\socket.py:720\u001b[39m, in \u001b[36mSocketIO.readinto\u001b[39m\u001b[34m(self, b)\u001b[39m\n\u001b[32m    718\u001b[39m \u001b[38;5;28;01mwhile\u001b[39;00m \u001b[38;5;28;01mTrue\u001b[39;00m:\n\u001b[32m    719\u001b[39m     \u001b[38;5;28;01mtry\u001b[39;00m:\n\u001b[32m--> \u001b[39m\u001b[32m720\u001b[39m         \u001b[38;5;28;01mreturn\u001b[39;00m \u001b[38;5;28;43mself\u001b[39;49m\u001b[43m.\u001b[49m\u001b[43m_sock\u001b[49m\u001b[43m.\u001b[49m\u001b[43mrecv_into\u001b[49m\u001b[43m(\u001b[49m\u001b[43mb\u001b[49m\u001b[43m)\u001b[49m\n\u001b[32m    721\u001b[39m     \u001b[38;5;28;01mexcept\u001b[39;00m timeout:\n\u001b[32m    722\u001b[39m         \u001b[38;5;28mself\u001b[39m._timeout_occurred = \u001b[38;5;28;01mTrue\u001b[39;00m\n",
      "\u001b[36mFile \u001b[39m\u001b[32mC:\\Program Files\\WindowsApps\\PythonSoftwareFoundation.Python.3.12_3.12.2800.0_x64__qbz5n2kfra8p0\\Lib\\ssl.py:1251\u001b[39m, in \u001b[36mSSLSocket.recv_into\u001b[39m\u001b[34m(self, buffer, nbytes, flags)\u001b[39m\n\u001b[32m   1247\u001b[39m     \u001b[38;5;28;01mif\u001b[39;00m flags != \u001b[32m0\u001b[39m:\n\u001b[32m   1248\u001b[39m         \u001b[38;5;28;01mraise\u001b[39;00m \u001b[38;5;167;01mValueError\u001b[39;00m(\n\u001b[32m   1249\u001b[39m           \u001b[33m\"\u001b[39m\u001b[33mnon-zero flags not allowed in calls to recv_into() on \u001b[39m\u001b[38;5;132;01m%s\u001b[39;00m\u001b[33m\"\u001b[39m %\n\u001b[32m   1250\u001b[39m           \u001b[38;5;28mself\u001b[39m.\u001b[34m__class__\u001b[39m)\n\u001b[32m-> \u001b[39m\u001b[32m1251\u001b[39m     \u001b[38;5;28;01mreturn\u001b[39;00m \u001b[38;5;28;43mself\u001b[39;49m\u001b[43m.\u001b[49m\u001b[43mread\u001b[49m\u001b[43m(\u001b[49m\u001b[43mnbytes\u001b[49m\u001b[43m,\u001b[49m\u001b[43m \u001b[49m\u001b[43mbuffer\u001b[49m\u001b[43m)\u001b[49m\n\u001b[32m   1252\u001b[39m \u001b[38;5;28;01melse\u001b[39;00m:\n\u001b[32m   1253\u001b[39m     \u001b[38;5;28;01mreturn\u001b[39;00m \u001b[38;5;28msuper\u001b[39m().recv_into(buffer, nbytes, flags)\n",
      "\u001b[36mFile \u001b[39m\u001b[32mC:\\Program Files\\WindowsApps\\PythonSoftwareFoundation.Python.3.12_3.12.2800.0_x64__qbz5n2kfra8p0\\Lib\\ssl.py:1103\u001b[39m, in \u001b[36mSSLSocket.read\u001b[39m\u001b[34m(self, len, buffer)\u001b[39m\n\u001b[32m   1101\u001b[39m \u001b[38;5;28;01mtry\u001b[39;00m:\n\u001b[32m   1102\u001b[39m     \u001b[38;5;28;01mif\u001b[39;00m buffer \u001b[38;5;129;01mis\u001b[39;00m \u001b[38;5;129;01mnot\u001b[39;00m \u001b[38;5;28;01mNone\u001b[39;00m:\n\u001b[32m-> \u001b[39m\u001b[32m1103\u001b[39m         \u001b[38;5;28;01mreturn\u001b[39;00m \u001b[38;5;28;43mself\u001b[39;49m\u001b[43m.\u001b[49m\u001b[43m_sslobj\u001b[49m\u001b[43m.\u001b[49m\u001b[43mread\u001b[49m\u001b[43m(\u001b[49m\u001b[38;5;28;43mlen\u001b[39;49m\u001b[43m,\u001b[49m\u001b[43m \u001b[49m\u001b[43mbuffer\u001b[49m\u001b[43m)\u001b[49m\n\u001b[32m   1104\u001b[39m     \u001b[38;5;28;01melse\u001b[39;00m:\n\u001b[32m   1105\u001b[39m         \u001b[38;5;28;01mreturn\u001b[39;00m \u001b[38;5;28mself\u001b[39m._sslobj.read(\u001b[38;5;28mlen\u001b[39m)\n",
      "\u001b[31mKeyboardInterrupt\u001b[39m: "
     ]
    }
   ],
   "source": [
    "data_count = 0\n",
    "\n",
    "for site in sites:\n",
    "  scraper = umd_webscraper.UMDWebScraper(site)\n",
    "  scraper.scrape(site)\n",
    "\n",
    "  site_name = get_site_name(site)\n",
    "  print(f\"Total for {site_name} site: {len(scraper.data)}\")\n",
    "  data_count += len(scraper.data)\n",
    "  scraper.save_data(f\"umd_{site_name}_data.json\")"
   ]
  },
  {
   "cell_type": "code",
   "execution_count": null,
   "id": "68a8f016",
   "metadata": {},
   "outputs": [],
   "source": [
    "data_count"
   ]
  },
  {
   "cell_type": "markdown",
   "id": "843664b3",
   "metadata": {},
   "source": [
    "### Embedding into vector storage ###"
   ]
  },
  {
   "cell_type": "code",
   "execution_count": 16,
   "id": "a66914b7",
   "metadata": {},
   "outputs": [
    {
     "name": "stdout",
     "output_type": "stream",
     "text": [
      "Index exists already\n"
     ]
    }
   ],
   "source": [
    "vector_db = pineconing.VectorDB()"
   ]
  },
  {
   "cell_type": "code",
   "execution_count": 17,
   "id": "eebff45a",
   "metadata": {},
   "outputs": [
    {
     "data": {
      "text/plain": [
       "{'dimension': 768,\n",
       " 'index_fullness': 0.0,\n",
       " 'metric': 'cosine',\n",
       " 'namespaces': {'file_data': {'vector_count': 1620},\n",
       "                'own_data': {'vector_count': 1}},\n",
       " 'total_vector_count': 1621,\n",
       " 'vector_type': 'dense'}"
      ]
     },
     "execution_count": 17,
     "metadata": {},
     "output_type": "execute_result"
    }
   ],
   "source": [
    "vector_db.index.describe_index_stats()"
   ]
  },
  {
   "cell_type": "markdown",
   "id": "802dbaa6",
   "metadata": {},
   "source": [
    "Loading embedding model:\n",
    "\n",
    "- SentenceTransformer (all-MiniLM-L6-v2)\n",
    "- GoogleGenerativeAIEmbeddings (models/embedding-001)"
   ]
  },
  {
   "cell_type": "code",
   "execution_count": 32,
   "id": "e2092748",
   "metadata": {},
   "outputs": [],
   "source": [
    "embedding_model = GoogleGenerativeAIEmbeddings(model='models/embedding-001')"
   ]
  },
  {
   "cell_type": "markdown",
   "id": "0768961f",
   "metadata": {},
   "source": [
    "#### Adding Data ####\n",
    "We only need to do this once"
   ]
  },
  {
   "cell_type": "markdown",
   "id": "df7455aa",
   "metadata": {},
   "source": [
    "By files"
   ]
  },
  {
   "cell_type": "code",
   "execution_count": null,
   "id": "406f7f35",
   "metadata": {},
   "outputs": [],
   "source": [
    "files = [\"datafiles/umd_sustainability_data.json\",\n",
    "         \"datafiles/umd_sustainingprogress_data.json\"]\n",
    "\n",
    "vector_db.upsert_files(files)"
   ]
  },
  {
   "cell_type": "markdown",
   "id": "11930e9d",
   "metadata": {},
   "source": [
    "By own data"
   ]
  },
  {
   "cell_type": "code",
   "execution_count": 8,
   "id": "5b7d8779",
   "metadata": {},
   "outputs": [],
   "source": [
    "our_data = \"The shortened link for the water refilling stations website is https://ter.ps/heartthetap\"\n",
    "vector_db.upsert_own_data(our_data)"
   ]
  },
  {
   "cell_type": "markdown",
   "id": "77548ba2",
   "metadata": {},
   "source": [
    "Delete data and reset count"
   ]
  },
  {
   "cell_type": "code",
   "execution_count": 18,
   "id": "875b1a8a",
   "metadata": {},
   "outputs": [],
   "source": [
    "vector_db.index.delete(delete_all=True, namespace='own_data')\n",
    "with open(\"datafiles/own_data_id_count.txt\", 'r+') as file:\n",
    "    file.seek(0)\n",
    "    file.write('0')"
   ]
  },
  {
   "cell_type": "markdown",
   "id": "92ebd4bf",
   "metadata": {},
   "source": [
    "### Retrieving and Generating (RAG) with langchain/langsmith tracing ###"
   ]
  },
  {
   "cell_type": "code",
   "execution_count": 16,
   "id": "d9c84cd2",
   "metadata": {},
   "outputs": [
    {
     "data": {
      "text/plain": [
       "True"
      ]
     },
     "execution_count": 16,
     "metadata": {},
     "output_type": "execute_result"
    }
   ],
   "source": [
    "utils.tracing_is_enabled()"
   ]
  },
  {
   "cell_type": "markdown",
   "id": "1b3bea20",
   "metadata": {},
   "source": [
    "### Using langchain google generative ai ###"
   ]
  },
  {
   "cell_type": "code",
   "execution_count": 10,
   "id": "a2df1403",
   "metadata": {},
   "outputs": [],
   "source": [
    "google_model = \"gemini-2.0-flash-lite\"\n",
    "llm = ChatGoogleGenerativeAI(model=google_model)\n",
    "\n",
    "rag = umd_rag.UMDRAG(vector_db, llm)"
   ]
  },
  {
   "cell_type": "code",
   "execution_count": 12,
   "id": "6cdf0da9",
   "metadata": {},
   "outputs": [
    {
     "data": {
      "text/plain": [
       "[{\n",
       "     \"namespace\": \"file_data\",\n",
       "     \"score\": 0.77050668,\n",
       "     \"id\": \"sustainability_119\",\n",
       "     \"values\": [],\n",
       "     \"metadata\": {\n",
       "         \"Content\": \"Campus programs you can take part in University initiatives to address sustainability in these areas UMD's key goals, achievements, and commitments \",\n",
       "         \"Header\": \"Explore Sustainability Topics\",\n",
       "         \"Link\": \"https://sustainability.umd.edu/topics\",\n",
       "         \"Site_Title\": \"Sustainability Impact Areas | SustainableUMD\"\n",
       "     }\n",
       " },\n",
       " {\n",
       "     \"namespace\": \"file_data\",\n",
       "     \"score\": 0.770001054,\n",
       "     \"id\": \"sustainingprogress_220\",\n",
       "     \"values\": [],\n",
       "     \"metadata\": {\n",
       "         \"Content\": \"All Schools and Colleges at UMD include academic and research opportunities relating to sustainability. Staff and administrative teams throughout the university incorporate sustainability into the university operations. We're committed to addressing the grand challenges of climate change and sustainability. The SustainableUMD Network connects students, staff, faculty, and other community members to sustainability-related opportunities at UMD. This section curates a collection of resources -- reports, articles, newsletters, social media accounts, and other resources -- created by many sustainability-affiliated units across campus. \",\n",
       "         \"Header\": \"\",\n",
       "         \"Link\": \"https://sustainingprogress.umd.edu/celebrating-stories\",\n",
       "         \"Site_Title\": \"Celebrating Stories | Office of Sustainability\"\n",
       "     }\n",
       " },\n",
       " {\n",
       "     \"namespace\": \"file_data\",\n",
       "     \"score\": 0.76315552,\n",
       "     \"id\": \"sustainingprogress_619\",\n",
       "     \"values\": [],\n",
       "     \"metadata\": {\n",
       "         \"Content\": \"Each of the sections below provides an interactive summary that gives an example of UMD\\u2019s progress towards sustainability on campus and beyond. \",\n",
       "         \"Header\": \"\",\n",
       "         \"Link\": \"https://sustainingprogress.umd.edu/2020-2021-year-in-review\",\n",
       "         \"Site_Title\": \"Feature Story: A Year in Review (2020-2021) | Office of Sustainability\"\n",
       "     }\n",
       " },\n",
       " {\n",
       "     \"namespace\": \"file_data\",\n",
       "     \"score\": 0.756721854,\n",
       "     \"id\": \"sustainingprogress_217\",\n",
       "     \"values\": [],\n",
       "     \"metadata\": {\n",
       "         \"Content\": \"UMD IS INTEGRATING SUSTAINABILITY INTO CAMPUS CULTURE, ACADEMICS, RESEARCH, & OPERATIONS. \",\n",
       "         \"Header\": \"Other Resources: Campus Leaders in Sustainability\",\n",
       "         \"Link\": \"https://sustainingprogress.umd.edu/celebrating-stories\",\n",
       "         \"Site_Title\": \"Celebrating Stories | Office of Sustainability\"\n",
       "     }\n",
       " },\n",
       " {\n",
       "     \"namespace\": \"file_data\",\n",
       "     \"score\": 0.753802061,\n",
       "     \"id\": \"sustainingprogress_154\",\n",
       "     \"values\": [],\n",
       "     \"metadata\": {\n",
       "         \"Content\": \"TheGreen Office,Green TerpandGreen Chapterprograms were developed and facilitated by the Office of Sustainability in order to give students, faculty and staff support, training, and certification for adopting sustainable practices in daily life.UMD's Arboretumorganizes litter clean ups across campus, and are always looking for volunteers.UMD Facilities Managementcontinually works to improve the waste collection system, and even conducts waste audits to better understand how much of our waste could have been recycled or composted.Student Groups such as the SGA Sustainability Committees, Sustainable Oceans Alliance, MaryPIRG, and more have advocated for these and more sustainable practices on our campus, and they continue to encourage students and administration alike to push progress forward.\",\n",
       "         \"Header\": \"More:\",\n",
       "         \"Link\": \"https://sustainingprogress.umd.edu/celebrating-stories/umds-journey-curbing-waste\",\n",
       "         \"Site_Title\": \"UMD's Journey to Curbing Waste | Office of Sustainability\"\n",
       "     }\n",
       " },\n",
       " {\n",
       "     \"namespace\": \"file_data\",\n",
       "     \"score\": 0.752723,\n",
       "     \"id\": \"sustainability_74\",\n",
       "     \"values\": [],\n",
       "     \"metadata\": {\n",
       "         \"Content\": \"Addressing sustainability is essential because healthy water, healthy air, and healthy ecosystems are foundational to a thriving society.  Higher education institutions, such as the University of Maryland, are in a unique position to advance sustainability solutions, awareness, and action. Over 50,000 students, faculty and staff live, work, research and study on campus each day. From energy and water use to transportation and food services, UMD has continual opportunities to cultivate a culture of sustainability while conducting critical research that guides sustainability policy and innovation here and around the world. UMD strives to empower students, faculty and staff to take sustainable steps by bringing local and global systems into balance, redesigning processes to conserve resources, and experimenting with novel sustainable practices. We recognize the power of higher education to influence broader change, empower youth with skills and understanding, and integrate change by serving as an immersive learning lab for education, research, experience and civic engagement. UMD aims to serve as an example for society to facilitate the crucial cultural, functional, and technological transitions to a world that supports everyone. The Office of Sustainability compiles and communicates sustainability efforts from across campus and supports the SustainableUMD network. SustainableUMD refers to the campus-wide commitment to environmental responsibility.  Every person contributes to UMD's impacts and every aspect of campus affects the university's sustainability performance. Regardless of where on campus one works, studies, or lives, each person can help advance sustainability. By integrating academics, research, operations, and student engagement, the campus community can model and leverage broader change. Within the campus, UMD is innovating sustainable solutions, immersing students in a healthy and inspiring environment, and modeling a demonstration for more green communities. \",\n",
       "         \"Header\": \"SustainableUMD\",\n",
       "         \"Link\": \"https://sustainability.umd.edu/about\",\n",
       "         \"Site_Title\": \"About | SustainableUMD\"\n",
       "     }\n",
       " },\n",
       " {\n",
       "     \"namespace\": \"file_data\",\n",
       "     \"score\": 0.749276459,\n",
       "     \"id\": \"sustainability_171\",\n",
       "     \"values\": [],\n",
       "     \"metadata\": {\n",
       "         \"Content\": \"Opportunities are endless to incorporate sustainability into research and learning. From degree programs to research projects to living-learning programs, students and faculty learn, enhance, and find support for addressing sustainability issues. By utilizing the campus as a living lab, our campus community develops leadership, innovation, and sustainability solutions to address theGrand Challengesof our time \\u2014 ranging from climate change to hunger to clean water shortages. The University of Maryland offers students hands-on opportunities to develop the skills to solve sustainability dilemmas, alongside the visionary faculty who champion environmental progress.  \",\n",
       "         \"Header\": \"Innovations for Sustainable Solutions\",\n",
       "         \"Link\": \"https://sustainability.umd.edu/sustainability-education-research\",\n",
       "         \"Site_Title\": \"Sustainability Education & Research | SustainableUMD\"\n",
       "     }\n",
       " },\n",
       " {\n",
       "     \"namespace\": \"file_data\",\n",
       "     \"score\": 0.748432279,\n",
       "     \"id\": \"sustainingprogress_75\",\n",
       "     \"values\": [],\n",
       "     \"metadata\": {\n",
       "         \"Content\": \"Beyond internally set goals and climate strategies, UMD's operational programs to support sustainability are guided by an array of voluntary commitments and regulatory requirements. UMD aims to foster a culture of sustainability and act as a leader in voluntary and regulated environmental stewardship by going above and beyond the call of action. Explore other commitments and regulations that help UMD become more sustainable. \",\n",
       "         \"Header\": \"Other Commitments\",\n",
       "         \"Link\": \"https://sustainingprogress.umd.edu/progress-commitments\",\n",
       "         \"Site_Title\": \"Sustainability Goals & Commitments | Office of Sustainability\"\n",
       "     }\n",
       " },\n",
       " {\n",
       "     \"namespace\": \"file_data\",\n",
       "     \"score\": 0.747681081,\n",
       "     \"id\": \"sustainability_108\",\n",
       "     \"values\": [],\n",
       "     \"metadata\": {\n",
       "         \"Content\": \"Beyond internally set goals and climate strategies, UMD's operational programs to support sustainability are guided by an array of voluntary commitments and regulatory requirements. UMD aims to foster a culture of sustainability and act as a leader in environmental stewardship by going above and beyond the call of action.Coming Soon\",\n",
       "         \"Header\": \"\",\n",
       "         \"Link\": \"https://sustainability.umd.edu/progress-commitments/other-commitments\",\n",
       "         \"Site_Title\": \"Our Commitments | SustainableUMD\"\n",
       "     }\n",
       " },\n",
       " {\n",
       "     \"namespace\": \"file_data\",\n",
       "     \"score\": 0.746988058,\n",
       "     \"id\": \"sustainingprogress_553\",\n",
       "     \"values\": [],\n",
       "     \"metadata\": {\n",
       "         \"Content\": \"Overall, the results of the survey indicate that students are concerned about major environmental issues that our society faces and feel that the university should continue to advance efforts to address these issues. It also highlights personal versus institutional responsibility to sustainability.  Understanding more about how students relate to sustainability, their personal values, and their lifestyle choices is essential in shaping outreach, education, and opportunities that align with their values and priorities. By continually fostering a campus culture that prioritizes sustainability, UMD enhances student engagement and empowers student leaders to advocate for innovative solutions to the pressing challenges of climate change.  \",\n",
       "         \"Header\": \"\",\n",
       "         \"Link\": \"https://sustainingprogress.umd.edu/celebrating-stories/2018-student-concern-environment-has-increased\",\n",
       "         \"Site_Title\": \"Since 2018, Student Concern for the Environment has Increased | Office of Sustainability\"\n",
       "     }\n",
       " }]"
      ]
     },
     "execution_count": 12,
     "metadata": {},
     "output_type": "execute_result"
    }
   ],
   "source": [
    "piped = rag.pipe(\"What are some of the challenges of sustainability at UMD?\", include_metadata=True)\n",
    "piped['metadata']"
   ]
  },
  {
   "cell_type": "code",
   "execution_count": 35,
   "id": "c11d2e0f",
   "metadata": {},
   "outputs": [
    {
     "name": "stdout",
     "output_type": "stream",
     "text": [
      "Top 3 retrieved documents:\n",
      "1. sustainability_119\n",
      "- Text: Campus programs you can take part in University initiatives to address sustainability in these areas UMD's key goals, achievements, and commitments \n",
      "- Link: https://sustainability.umd.edu/topics\n",
      "- Score: 0.77050668\n",
      "\n",
      "2. sustainingprogress_220\n",
      "- Text: All Schools and Colleges at UMD include academic and research opportunities relating to sustainability. Staff and administrative teams throughout the university incorporate sustainability into the university operations. We're committed to addressing the grand challenges of climate change and sustainability. The SustainableUMD Network connects students, staff, faculty, and other community members to sustainability-related opportunities at UMD. This section curates a collection of resources -- reports, articles, newsletters, social media accounts, and other resources -- created by many sustainability-affiliated units across campus. \n",
      "- Link: https://sustainingprogress.umd.edu/celebrating-stories\n",
      "- Score: 0.770001054\n",
      "\n",
      "3. sustainingprogress_619\n",
      "- Text: Each of the sections below provides an interactive summary that gives an example of UMD’s progress towards sustainability on campus and beyond. \n",
      "- Link: https://sustainingprogress.umd.edu/2020-2021-year-in-review\n",
      "- Score: 0.76315552\n",
      "\n",
      "\n"
     ]
    }
   ],
   "source": [
    "a = my_utils.organize_retrieval(meta)\n",
    "print(a)"
   ]
  },
  {
   "cell_type": "code",
   "execution_count": null,
   "id": "b49723d8",
   "metadata": {},
   "outputs": [],
   "source": []
  }
 ],
 "metadata": {
  "kernelspec": {
   "display_name": "venv",
   "language": "python",
   "name": "python3"
  },
  "language_info": {
   "codemirror_mode": {
    "name": "ipython",
    "version": 3
   },
   "file_extension": ".py",
   "mimetype": "text/x-python",
   "name": "python",
   "nbconvert_exporter": "python",
   "pygments_lexer": "ipython3",
   "version": "3.12.10"
  }
 },
 "nbformat": 4,
 "nbformat_minor": 5
}
