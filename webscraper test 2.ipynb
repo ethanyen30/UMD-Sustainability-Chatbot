{
 "cells": [
  {
   "cell_type": "code",
   "execution_count": 2,
   "metadata": {
    "executionInfo": {
     "elapsed": 491,
     "status": "ok",
     "timestamp": 1745727808993,
     "user": {
      "displayName": "Ethan Yen",
      "userId": "12081195132296732157"
     },
     "user_tz": 240
    },
    "id": "VafVqKEFnjaC"
   },
   "outputs": [],
   "source": [
    "import requests\n",
    "from bs4 import BeautifulSoup\n",
    "from urllib.parse import urljoin, urlparse\n",
    "import json"
   ]
  },
  {
   "cell_type": "markdown",
   "metadata": {
    "id": "PHZWQ402cFFL"
   },
   "source": [
    "## How to get types of content on the UMD webpages ##"
   ]
  },
  {
   "cell_type": "markdown",
   "metadata": {
    "id": "K2lBVmMIE3cs"
   },
   "source": [
    "Data Format"
   ]
  },
  {
   "cell_type": "code",
   "execution_count": 3,
   "metadata": {
    "executionInfo": {
     "elapsed": 40,
     "status": "ok",
     "timestamp": 1745727809709,
     "user": {
      "displayName": "Ethan Yen",
      "userId": "12081195132296732157"
     },
     "user_tz": 240
    },
    "id": "PLQY9MvCE4gx"
   },
   "outputs": [],
   "source": [
    "template_data = {\"Link\": \"\",\n",
    "                 \"Site_Title\": \"\",\n",
    "                 \"Header\": \"\",\n",
    "                 \"Content\": \"\",\n",
    "                 }"
   ]
  },
  {
   "cell_type": "markdown",
   "metadata": {
    "id": "M2Sdfikkt9HF"
   },
   "source": [
    "Getting main content"
   ]
  },
  {
   "cell_type": "code",
   "execution_count": 4,
   "metadata": {
    "executionInfo": {
     "elapsed": 3,
     "status": "ok",
     "timestamp": 1745727809716,
     "user": {
      "displayName": "Ethan Yen",
      "userId": "12081195132296732157"
     },
     "user_tz": 240
    },
    "id": "_6-KD2tot_E9"
   },
   "outputs": [],
   "source": [
    "def get_main_content(soup, page_template):\n",
    "  main_data = []\n",
    "\n",
    "  mc = soup.find(id='main-content')\n",
    "  if mc:\n",
    "    ec = mc.find(class_='editor-content')\n",
    "    if ec:\n",
    "\n",
    "      new_data = page_template.copy()\n",
    "      for child in ec.children:\n",
    "        if child.name in ['h1', 'h2', 'h3']:\n",
    "          main_data.append(new_data)\n",
    "          new_data = page_template.copy()\n",
    "          new_data['Header'] = child.get_text()\n",
    "\n",
    "        if child.name == 'p':\n",
    "          new_data['Content'] += child.get_text(strip=True) + \" \"\n",
    "\n",
    "        if child.name == 'ul':\n",
    "          for li in child.find_all('li'):\n",
    "            new_data['Content'] += li.get_text() + \" \"\n",
    "      if new_data:\n",
    "        main_data.append(new_data)\n",
    "\n",
    "  return main_data"
   ]
  },
  {
   "cell_type": "markdown",
   "metadata": {
    "id": "YrzhnbIvDUXJ"
   },
   "source": [
    "Getting text"
   ]
  },
  {
   "cell_type": "code",
   "execution_count": 5,
   "metadata": {
    "executionInfo": {
     "elapsed": 65,
     "status": "ok",
     "timestamp": 1745727809780,
     "user": {
      "displayName": "Ethan Yen",
      "userId": "12081195132296732157"
     },
     "user_tz": 240
    },
    "id": "wIzZGm3kLGm1"
   },
   "outputs": [],
   "source": [
    "def get_text_content(soup, page_template):\n",
    "  text_data = []\n",
    "  editor_content = []\n",
    "\n",
    "  psuft = soup.find_all(class_='page-section-ut_feature')\n",
    "  sutf = soup.find_all(class_='section-ut_feature')\n",
    "  psutt = soup.find_all(class_='page-section-ut_text')\n",
    "  sutt = soup.find_all(class_='section-ut_text')\n",
    "  psutiwt = soup.find_all(class_='page-section-ut_image_with_text')\n",
    "  sutiwt = soup.find_all(class_='section-ut_image_with_text')\n",
    "\n",
    "  search = psuft + sutf + psutt + sutt + psutiwt + sutiwt\n",
    "  for thing in search:\n",
    "    for ec in thing.find_all(class_='editor-content'):\n",
    "      editor_content.append(ec)\n",
    "\n",
    "  for ec in editor_content:\n",
    "    new_data = page_template.copy()\n",
    "\n",
    "    ul = ec.find('ul')\n",
    "    if ul:\n",
    "      for li in ul.find_all('li'):\n",
    "        list_data = new_data.copy()\n",
    "        list_data['Content'] = li.get_text()\n",
    "        text_data.append(list_data)\n",
    "\n",
    "    header1 = ec.find('h1')\n",
    "    if header1:\n",
    "      new_data['Header'] = header1.get_text()\n",
    "    else:\n",
    "      header2 = ec.find('h2')\n",
    "      if header2:\n",
    "        new_data['Header'] = header2.get_text()\n",
    "      else:\n",
    "        header3 = ec.find('h3')\n",
    "        if header3:\n",
    "          new_data['Header'] = header3.get_text()\n",
    "        else:\n",
    "          header4 = ec.find('h4')\n",
    "          if header4:\n",
    "            new_data['Header'] = header4.get_text()\n",
    "\n",
    "    ps = ec.find_all('p')\n",
    "    if ps:\n",
    "      for p in ps:\n",
    "        new_data['Content'] += p.get_text() + \" \"\n",
    "\n",
    "    else:\n",
    "      spans = ec.find_all('span')\n",
    "      if spans:\n",
    "        for span in spans:\n",
    "          new_data['Content'] = span.get_text() + \" \"\n",
    "\n",
    "    text_data.append(new_data)\n",
    "\n",
    "  return text_data"
   ]
  },
  {
   "cell_type": "markdown",
   "metadata": {
    "id": "tkdPnDWaotfE"
   },
   "source": [
    "Get Accordion"
   ]
  },
  {
   "cell_type": "code",
   "execution_count": 6,
   "metadata": {
    "executionInfo": {
     "elapsed": 2,
     "status": "ok",
     "timestamp": 1745727809792,
     "user": {
      "displayName": "Ethan Yen",
      "userId": "12081195132296732157"
     },
     "user_tz": 240
    },
    "id": "OI9ca6CDovBR"
   },
   "outputs": [],
   "source": [
    "def get_accordion_content(soup, page_template):\n",
    "  accordion_data = []\n",
    "\n",
    "  for a in soup.find_all(class_='accordion'):\n",
    "    for card in a.find_all(class_='card'):\n",
    "      new_data = page_template.copy()\n",
    "\n",
    "      ch = card.find(class_='card-header')\n",
    "      if ch:\n",
    "        new_data['Header'] = ch.get_text(strip=True)\n",
    "\n",
    "      cb = card.find(class_='card-body')\n",
    "      if cb:\n",
    "        new_data['Content'] = cb.get_text(strip=True)\n",
    "\n",
    "      accordion_data.append(new_data)\n",
    "\n",
    "  return accordion_data"
   ]
  },
  {
   "cell_type": "markdown",
   "metadata": {
    "id": "WV2ORzeOkToj"
   },
   "source": [
    "Getting Card Groups"
   ]
  },
  {
   "cell_type": "code",
   "execution_count": 7,
   "metadata": {
    "executionInfo": {
     "elapsed": 2,
     "status": "ok",
     "timestamp": 1745727809796,
     "user": {
      "displayName": "Ethan Yen",
      "userId": "12081195132296732157"
     },
     "user_tz": 240
    },
    "id": "Ekxn_UiikTQA"
   },
   "outputs": [],
   "source": [
    "def get_card_groups(soup, page_template):\n",
    "  card_groups = []\n",
    "\n",
    "  for cg in soup.find_all(class_='card-group'):\n",
    "    for cw in cg.find_all(class_='card-wrap'):\n",
    "      new_data = page_template.copy()\n",
    "\n",
    "      ctitle = cw.find(class_='card-title')\n",
    "      if ctitle:\n",
    "        new_data['Header'] = ctitle.get_text(strip=True)\n",
    "\n",
    "      ctext = cw.find(class_='card-text')\n",
    "      if ctext:\n",
    "        new_data['Content'] = ctext.get_text(strip=True)\n",
    "\n",
    "      card_groups.append(new_data)\n",
    "\n",
    "  return card_groups"
   ]
  },
  {
   "cell_type": "markdown",
   "metadata": {
    "id": "TfJPOAJLkZvy"
   },
   "source": [
    "Getting Slideshows"
   ]
  },
  {
   "cell_type": "code",
   "execution_count": 8,
   "metadata": {
    "executionInfo": {
     "elapsed": 1,
     "status": "ok",
     "timestamp": 1745727809800,
     "user": {
      "displayName": "Ethan Yen",
      "userId": "12081195132296732157"
     },
     "user_tz": 240
    },
    "id": "Zfkdamvtkbsy"
   },
   "outputs": [],
   "source": [
    "def get_slideshow_data(soup, page_template):\n",
    "  slideshow_data = []\n",
    "\n",
    "  sus = soup.find_all(class_='section-ut_slideshow')\n",
    "  psuts = soup.find_all(class_='page-section-ut_slideshow')\n",
    "\n",
    "  search = sus + psuts\n",
    "  for thing in search:\n",
    "    for si in thing.find_all(class_='slideshow-item'):\n",
    "      new_data = page_template.copy()\n",
    "\n",
    "      sct = si.find(class_='slideshow-caption-title')\n",
    "      if sct:\n",
    "        new_data['Header'] = sct.get_text()\n",
    "\n",
    "      scc = si.find(class_='slideshow-caption-content')\n",
    "      if scc:\n",
    "        new_data['Content'] = scc.get_text()\n",
    "\n",
    "      slideshow_data.append(new_data)\n",
    "  return slideshow_data"
   ]
  },
  {
   "cell_type": "markdown",
   "metadata": {
    "id": "jTRtwQPqcQRZ"
   },
   "source": [
    "Types of cleaning"
   ]
  },
  {
   "cell_type": "code",
   "execution_count": 9,
   "metadata": {
    "executionInfo": {
     "elapsed": 1,
     "status": "ok",
     "timestamp": 1745727809802,
     "user": {
      "displayName": "Ethan Yen",
      "userId": "12081195132296732157"
     },
     "user_tz": 240
    },
    "id": "dArg7nXGFDcL"
   },
   "outputs": [],
   "source": [
    "def clean_contents(data):\n",
    "  cleaned_data = []\n",
    "  for chunk in data:\n",
    "    if len(chunk['Content']) < 50:\n",
    "      continue\n",
    "    chunk['Content'] = chunk['Content'].replace(\"\\xa0\", \" \")\n",
    "    cleaned_data.append(chunk)\n",
    "\n",
    "  return cleaned_data"
   ]
  },
  {
   "cell_type": "markdown",
   "metadata": {
    "id": "INEkNDV7cLsR"
   },
   "source": [
    "## Class to scrape UMD type websites ##"
   ]
  },
  {
   "cell_type": "code",
   "execution_count": 10,
   "metadata": {
    "executionInfo": {
     "elapsed": 55,
     "status": "ok",
     "timestamp": 1745727815372,
     "user": {
      "displayName": "Ethan Yen",
      "userId": "12081195132296732157"
     },
     "user_tz": 240
    },
    "id": "WGfZ0JSCoCzm"
   },
   "outputs": [],
   "source": [
    "class UMDWebScraper:\n",
    "  def __init__(self, url):\n",
    "    self.url = url\n",
    "    self.visited_links = set()\n",
    "    self.data = []\n",
    "\n",
    "  def fetch_page(self, url):\n",
    "    try:\n",
    "        response = requests.get(url, timeout=10)\n",
    "        response.raise_for_status()\n",
    "        return BeautifulSoup(response.text, \"html.parser\")\n",
    "    except requests.RequestException as e:\n",
    "        print(f\"Failed to fetch {url}: {e}\")\n",
    "        return None\n",
    "\n",
    "  def extract_links(self, soup, base_url):\n",
    "    links = set()\n",
    "    for a_tag in soup.find_all(\"a\", href=True):\n",
    "        link = urljoin(base_url, a_tag[\"href\"])\n",
    "        if link.startswith(self.url) and link not in self.visited_links \\\n",
    "        and not link.startswith(self.url + \"sites/default/files\") \\\n",
    "        and '#' not in link and '?' not in link:\n",
    "            links.add(link)\n",
    "    return links\n",
    "\n",
    "  def extract_content(self, soup, page_template):\n",
    "\n",
    "    main_content = get_main_content(soup, page_template)\n",
    "    text_content = get_text_content(soup, page_template)\n",
    "    accordion_content = get_accordion_content(soup, page_template)\n",
    "    card_group_content = get_card_groups(soup, page_template)\n",
    "    slideshow_content = get_slideshow_data(soup, page_template)\n",
    "\n",
    "    content = main_content + text_content + accordion_content + card_group_content + slideshow_content\n",
    "\n",
    "    return clean_contents(content)\n",
    "\n",
    "  def scrape(self, url):\n",
    "    if url in self.visited_links:\n",
    "        return\n",
    "\n",
    "    print(f\"Scraping: {url}\")\n",
    "    self.visited_links.add(url)\n",
    "\n",
    "    soup = self.fetch_page(url)\n",
    "    if not soup:\n",
    "        return\n",
    "\n",
    "    page_template = template_data.copy()\n",
    "    page_template['Link'] = url\n",
    "    page_template['Site_Title'] = soup.title.string\n",
    "\n",
    "    self.data += self.extract_content(soup, page_template)\n",
    "\n",
    "    new_links = self.extract_links(soup, url)\n",
    "    for link in new_links:\n",
    "        self.scrape(link)\n",
    "\n",
    "  def save_data(self, filename=\"umd_sustainability_data.json\"):\n",
    "    with open(filename, \"w\", encoding=\"utf-8\") as f:\n",
    "        json.dump(self.data, f, indent=4, ensure_ascii=False)\n",
    "    print(f\"Data saved to {filename}\")"
   ]
  },
  {
   "cell_type": "markdown",
   "metadata": {
    "id": "uaOBEE1vc0XQ"
   },
   "source": [
    "Creating Scraper Objects"
   ]
  },
  {
   "cell_type": "code",
   "execution_count": 1,
   "metadata": {
    "executionInfo": {
     "elapsed": 7,
     "status": "ok",
     "timestamp": 1745727662346,
     "user": {
      "displayName": "Ethan Yen",
      "userId": "12081195132296732157"
     },
     "user_tz": 240
    },
    "id": "v7-uEf8ueCVn"
   },
   "outputs": [],
   "source": [
    "sites = [\"https://sustainability.umd.edu/\",\n",
    "         \"https://sustainingprogress.umd.edu/\"]"
   ]
  },
  {
   "cell_type": "code",
   "execution_count": 11,
   "metadata": {
    "executionInfo": {
     "elapsed": 13,
     "status": "ok",
     "timestamp": 1745727904991,
     "user": {
      "displayName": "Ethan Yen",
      "userId": "12081195132296732157"
     },
     "user_tz": 240
    },
    "id": "Go5BqAAXeNd4"
   },
   "outputs": [],
   "source": [
    "import re\n",
    "\n",
    "def get_site_name(site):\n",
    "  site_re = re.compile(r'^https://([A-Za-z0-9]*).umd.edu/$')\n",
    "\n",
    "  matched = re.match(site_re, site)\n",
    "  if matched:\n",
    "    return matched.group(1)\n",
    "  else:\n",
    "    raise Exception(\"Not good site name (not umd)\")"
   ]
  },
  {
   "cell_type": "code",
   "execution_count": 14,
   "metadata": {
    "colab": {
     "base_uri": "https://localhost:8080/"
    },
    "executionInfo": {
     "elapsed": 91717,
     "status": "ok",
     "timestamp": 1745728103558,
     "user": {
      "displayName": "Ethan Yen",
      "userId": "12081195132296732157"
     },
     "user_tz": 240
    },
    "id": "XwTENoXOoM8w",
    "outputId": "7f911362-5ea4-4548-9e56-7bc35af0843e"
   },
   "outputs": [
    {
     "name": "stdout",
     "output_type": "stream",
     "text": [
      "Scraping: https://sustainability.umd.edu/\n",
      "Scraping: https://sustainability.umd.edu/transportation\n",
      "Scraping: https://sustainability.umd.edu/buildings\n",
      "Scraping: https://sustainability.umd.edu/food\n",
      "Scraping: https://sustainability.umd.edu/progress/reports-other-resources\n",
      "Scraping: https://sustainability.umd.edu/topics\n",
      "Scraping: https://sustainability.umd.edu/waste\n",
      "Scraping: https://sustainability.umd.edu/progress-commitments\n",
      "Scraping: https://sustainability.umd.edu/education-and-research/majors-minors-graduate-programs\n",
      "Scraping: https://sustainability.umd.edu/sustainability-grants/other-funding-sources\n",
      "Scraping: https://sustainability.umd.edu/education-and-research/sustainability-teaching-fellows\n",
      "Failed to fetch https://sustainability.umd.edu/education-and-research/sustainability-teaching-fellows: 403 Client Error: Forbidden for url: https://sustainability.umd.edu/education-and-research/archive-sustainability-teaching-fellows\n",
      "Scraping: https://sustainability.umd.edu/about/contact-us\n",
      "Scraping: https://sustainability.umd.edu/sustainability-grants/umd-sustainability-fund-grant\n",
      "Scraping: https://sustainability.umd.edu/node/433\n",
      "Scraping: https://sustainability.umd.edu/about/office-sustainability/hannah-altberger\n",
      "Scraping: https://sustainability.umd.edu/education-and-research/student-projects\n",
      "Scraping: https://sustainability.umd.edu/energy\n",
      "Scraping: https://sustainability.umd.edu/advisors\n",
      "Scraping: https://sustainability.umd.edu/OS\n",
      "Scraping: https://sustainability.umd.edu/about/office-sustainability/dyani-frye\n",
      "Scraping: https://sustainability.umd.edu/about/donate\n",
      "Scraping: https://sustainability.umd.edu/sustainability-education-research\n",
      "Scraping: https://sustainability.umd.edu/grants\n",
      "Scraping: https://sustainability.umd.edu/other-funding-sources\n",
      "Scraping: https://sustainability.umd.edu/get-involved\n",
      "Scraping: https://sustainability.umd.edu/get-involved/sustainable-distancing-guide\n",
      "Scraping: https://sustainability.umd.edu/get-involved/students/student-groups\n",
      "Scraping: https://sustainability.umd.edu/student-groups\n",
      "Scraping: https://sustainability.umd.edu/get-involved/students/green-chapter\n",
      "Scraping: https://sustainability.umd.edu/education-and-research/living-learning-programs\n",
      "Scraping: https://sustainability.umd.edu/about/sustainability-council\n",
      "Scraping: https://sustainability.umd.edu/node/155\n",
      "Scraping: https://sustainability.umd.edu/about/sustainability-fund/grant-recipients\n",
      "Scraping: https://sustainability.umd.edu/news\n",
      "Scraping: https://sustainability.umd.edu/about\n",
      "Scraping: https://sustainability.umd.edu/landscape\n",
      "Scraping: https://sustainability.umd.edu/sustainability-grants/umd-sustainability-mini-grant\n",
      "Scraping: https://sustainability.umd.edu/education-and-research/research-centers\n",
      "Scraping: https://sustainability.umd.edu/water\n",
      "Scraping: https://sustainability.umd.edu/get-involved/green-office-program\n",
      "Scraping: https://sustainability.umd.edu/get-involved/staff/green-workspace-program/green-workspace-program-details\n",
      "Scraping: https://sustainability.umd.edu/greenworkspace\n",
      "Scraping: https://sustainability.umd.edu/innovation-credits\n",
      "Scraping: https://sustainability.umd.edu/get-involved/staff/green-workspace-program/innovation-credits\n",
      "Scraping: https://sustainability.umd.edu/get-involved/staff/green-workspace-program/introducing-green-workspace\n",
      "Scraping: https://sustainability.umd.edu/green-workspace-program-details\n",
      "Scraping: https://sustainability.umd.edu/sustainability-badge\n",
      "Scraping: https://sustainability.umd.edu/get-involved/staff/sustainability-badge\n",
      "Scraping: https://sustainability.umd.edu/get-involved/staff/green-labs\n",
      "Scraping: https://sustainability.umd.edu/about/sustainableumd-network\n",
      "Scraping: https://sustainability.umd.edu/green-purchasing\n",
      "Scraping: https://sustainability.umd.edu/topics/waste/residential-waste\n",
      "Scraping: https://sustainability.umd.edu/get-involved/everyone/trails-green-spaces-around-umd\n",
      "Scraping: https://sustainability.umd.edu/introducing-green-workspace\n",
      "Scraping: https://sustainability.umd.edu/about/grants\n",
      "Failed to fetch https://sustainability.umd.edu/about/grants: 403 Client Error: Forbidden for url: https://sustainability.umd.edu/about/grants\n",
      "Scraping: https://sustainability.umd.edu/get-involved/students/become-green-terp\n",
      "Scraping: https://sustainability.umd.edu/get-involved/students/internships\n",
      "Scraping: https://sustainability.umd.edu/office-sustainability-internships\n",
      "Scraping: https://sustainability.umd.edu/internships\n",
      "Scraping: https://sustainability.umd.edu/ambassadors\n",
      "Scraping: https://sustainability.umd.edu/about/office-sustainability/kyla-erman\n",
      "Scraping: https://sustainability.umd.edu/about/office-sustainability/manvi-kalachagari\n",
      "Scraping: https://sustainability.umd.edu/about/office-sustainability/alyssa-aggarwal\n",
      "Scraping: https://sustainability.umd.edu/about/office-sustainability/vivian-maneval\n",
      "Scraping: https://sustainability.umd.edu/about/office-sustainability/kyra-persson\n",
      "Scraping: https://sustainability.umd.edu/about/office-sustainability/briana-jacobs\n",
      "Scraping: https://sustainability.umd.edu/about/office-sustainability/adeline-murray\n",
      "Scraping: https://sustainability.umd.edu/about/office-sustainability/yalissa-scott\n",
      "Scraping: https://sustainability.umd.edu/topics/water/water-initiatives\n",
      "Scraping: https://sustainability.umd.edu/get-involved/programs\n",
      "Scraping: https://sustainability.umd.edu/node/117\n",
      "Failed to fetch https://sustainability.umd.edu/node/117: 404 Client Error: Not Found for url: https://sustainability.umd.edu/node/117\n",
      "Scraping: https://sustainability.umd.edu/topics/water/reusable-water-bottle-filling-stations\n",
      "Scraping: https://sustainability.umd.edu/get-involved/green-chapter\n",
      "Scraping: https://sustainability.umd.edu/progress/carbon-offsets\n",
      "Scraping: https://sustainability.umd.edu/node/97\n",
      "Failed to fetch https://sustainability.umd.edu/node/97: 403 Client Error: Forbidden for url: https://sustainability.umd.edu/node/97\n",
      "Scraping: https://sustainability.umd.edu/home\n",
      "Scraping: https://sustainability.umd.edu/node/150\n",
      "Scraping: https://sustainability.umd.edu/get-involved/walk-md-day-guide-trails-green-spaces-wellness-tips\n",
      "Scraping: https://sustainability.umd.edu/get-involved/sustainability-badge\n",
      "Scraping: https://sustainability.umd.edu/sustainableumd-outreach-bike\n",
      "Scraping: https://sustainability.umd.edu/get-involved/everyone/sustainableumd-outreach-bike\n",
      "Scraping: https://sustainability.umd.edu/tuesdays\n",
      "Scraping: https://sustainability.umd.edu/earthfest-2025\n",
      "Scraping: https://sustainability.umd.edu/our-guide-sustainable-gifting-ideas-mindful-and-ethical-gifts-season\n",
      "Scraping: https://sustainability.umd.edu/sustainability-across-curriculum-workshop\n",
      "Scraping: https://sustainability.umd.edu/get-involved/green-home-guide\n",
      "Scraping: https://sustainability.umd.edu/internships-opportunities\n",
      "Scraping: https://sustainability.umd.edu/umd-sustainability-fund-grant\n",
      "Scraping: https://sustainability.umd.edu/umd-sustainability-mini-grant\n",
      "Scraping: https://sustainability.umd.edu/education-and-research/archive-sustainability-teaching-fellows\n",
      "Failed to fetch https://sustainability.umd.edu/education-and-research/archive-sustainability-teaching-fellows: 403 Client Error: Forbidden for url: https://sustainability.umd.edu/education-and-research/archive-sustainability-teaching-fellows\n",
      "Scraping: https://sustainability.umd.edu/about/office-sustainability/ha-pham\n",
      "Scraping: https://sustainability.umd.edu/about/office-sustainability/sally-deleon\n",
      "Scraping: https://sustainability.umd.edu/about/office-sustainability/nicole-pilsbury\n",
      "Scraping: https://sustainability.umd.edu/about/office-sustainability/elizabeth-morrison\n",
      "Scraping: https://sustainability.umd.edu/about/office-sustainability/scott-lupin\n",
      "Scraping: https://sustainability.umd.edu/about/office-sustainability/quinn-lugenbeel\n",
      "Scraping: https://sustainability.umd.edu/about/office-sustainability/michelle-wang\n",
      "Scraping: https://sustainability.umd.edu/about/office-sustainability/anushka-tandon\n",
      "Scraping: https://sustainability.umd.edu/progress/climate-action-plan\n",
      "Scraping: https://sustainability.umd.edu/guiding-commitments/climate-action-plan/resilience-changing-climate\n",
      "Failed to fetch https://sustainability.umd.edu/guiding-commitments/climate-action-plan/resilience-changing-climate: 404 Client Error: Not Found for url: https://sustainability.umd.edu/guiding-commitments/climate-action-plan/resilience-changing-climate\n",
      "Scraping: https://sustainability.umd.edu/celebrating-stories\n",
      "Failed to fetch https://sustainability.umd.edu/celebrating-stories: 404 Client Error: Not Found for url: https://sustainability.umd.edu/celebrating-stories\n",
      "Scraping: https://sustainability.umd.edu/news/umd-accelerate-carbon-neutrality-goal-2025\n",
      "Scraping: https://sustainability.umd.edu/measuring-progress/sustainable-water-use\n",
      "Failed to fetch https://sustainability.umd.edu/measuring-progress/sustainable-water-use: 404 Client Error: Not Found for url: https://sustainability.umd.edu/measuring-progress/sustainable-water-use\n",
      "Scraping: https://sustainability.umd.edu/partnering-goals/sdg-17\n",
      "Failed to fetch https://sustainability.umd.edu/partnering-goals/sdg-17: 404 Client Error: Not Found for url: https://sustainability.umd.edu/partnering-goals/sdg-17\n",
      "Scraping: https://sustainability.umd.edu/measuring-progress/carbon-footprint\n",
      "Failed to fetch https://sustainability.umd.edu/measuring-progress/carbon-footprint: 404 Client Error: Not Found for url: https://sustainability.umd.edu/measuring-progress/carbon-footprint\n",
      "Scraping: https://sustainability.umd.edu/partnering-goals/sdg-6\n",
      "Failed to fetch https://sustainability.umd.edu/partnering-goals/sdg-6: 404 Client Error: Not Found for url: https://sustainability.umd.edu/partnering-goals/sdg-6\n",
      "Scraping: https://sustainability.umd.edu/partnering-goals/sdg-13\n",
      "Failed to fetch https://sustainability.umd.edu/partnering-goals/sdg-13: 404 Client Error: Not Found for url: https://sustainability.umd.edu/partnering-goals/sdg-13\n",
      "Scraping: https://sustainability.umd.edu/partnering-goals/sdg-16\n",
      "Failed to fetch https://sustainability.umd.edu/partnering-goals/sdg-16: 404 Client Error: Not Found for url: https://sustainability.umd.edu/partnering-goals/sdg-16\n",
      "Scraping: https://sustainability.umd.edu/measuring-progress/education-sustainability\n",
      "Failed to fetch https://sustainability.umd.edu/measuring-progress/education-sustainability: 404 Client Error: Not Found for url: https://sustainability.umd.edu/measuring-progress/education-sustainability\n",
      "Scraping: https://sustainability.umd.edu/partnering-goals/sdg-15\n",
      "Failed to fetch https://sustainability.umd.edu/partnering-goals/sdg-15: 404 Client Error: Not Found for url: https://sustainability.umd.edu/partnering-goals/sdg-15\n",
      "Scraping: https://sustainability.umd.edu/partnering-goals/sdg-5\n",
      "Failed to fetch https://sustainability.umd.edu/partnering-goals/sdg-5: 404 Client Error: Not Found for url: https://sustainability.umd.edu/partnering-goals/sdg-5\n",
      "Scraping: https://sustainability.umd.edu/climate-change-resources/climate-emotions\n",
      "Failed to fetch https://sustainability.umd.edu/climate-change-resources/climate-emotions: 404 Client Error: Not Found for url: https://sustainability.umd.edu/climate-change-resources/climate-emotions\n",
      "Scraping: https://sustainability.umd.edu/celebrating-stories/other-resources-sustainability-umd\n",
      "Failed to fetch https://sustainability.umd.edu/celebrating-stories/other-resources-sustainability-umd: 404 Client Error: Not Found for url: https://sustainability.umd.edu/celebrating-stories/other-resources-sustainability-umd\n",
      "Scraping: https://sustainability.umd.edu/measuring-progress/local-and-global-impact\n",
      "Failed to fetch https://sustainability.umd.edu/measuring-progress/local-and-global-impact: 404 Client Error: Not Found for url: https://sustainability.umd.edu/measuring-progress/local-and-global-impact\n",
      "Scraping: https://sustainability.umd.edu/partnering-goals/sdg-8\n",
      "Failed to fetch https://sustainability.umd.edu/partnering-goals/sdg-8: 404 Client Error: Not Found for url: https://sustainability.umd.edu/partnering-goals/sdg-8\n",
      "Scraping: https://sustainability.umd.edu/partnering-goals/sdg-9\n",
      "Failed to fetch https://sustainability.umd.edu/partnering-goals/sdg-9: 404 Client Error: Not Found for url: https://sustainability.umd.edu/partnering-goals/sdg-9\n",
      "Scraping: https://sustainability.umd.edu/measuring-progress/tableau-instructions\n",
      "Failed to fetch https://sustainability.umd.edu/measuring-progress/tableau-instructions: 404 Client Error: Not Found for url: https://sustainability.umd.edu/measuring-progress/tableau-instructions\n",
      "Scraping: https://sustainability.umd.edu/climate-resources\n",
      "Failed to fetch https://sustainability.umd.edu/climate-resources: 404 Client Error: Not Found for url: https://sustainability.umd.edu/climate-resources\n",
      "Scraping: https://sustainability.umd.edu/partnering-goals/sdg-10\n",
      "Failed to fetch https://sustainability.umd.edu/partnering-goals/sdg-10: 404 Client Error: Not Found for url: https://sustainability.umd.edu/partnering-goals/sdg-10\n",
      "Scraping: https://sustainability.umd.edu/partnering-goals\n",
      "Failed to fetch https://sustainability.umd.edu/partnering-goals: 404 Client Error: Not Found for url: https://sustainability.umd.edu/partnering-goals\n",
      "Scraping: https://sustainability.umd.edu/climate-change-resources/climate-justice\n",
      "Failed to fetch https://sustainability.umd.edu/climate-change-resources/climate-justice: 404 Client Error: Not Found for url: https://sustainability.umd.edu/climate-change-resources/climate-justice\n",
      "Scraping: https://sustainability.umd.edu/climate-research\n",
      "Failed to fetch https://sustainability.umd.edu/climate-research: 404 Client Error: Not Found for url: https://sustainability.umd.edu/climate-research\n",
      "Scraping: https://sustainability.umd.edu/measuring-progress/waste-minimization\n",
      "Failed to fetch https://sustainability.umd.edu/measuring-progress/waste-minimization: 404 Client Error: Not Found for url: https://sustainability.umd.edu/measuring-progress/waste-minimization\n",
      "Scraping: https://sustainability.umd.edu/measuring-progress/smart-growth\n",
      "Failed to fetch https://sustainability.umd.edu/measuring-progress/smart-growth: 404 Client Error: Not Found for url: https://sustainability.umd.edu/measuring-progress/smart-growth\n",
      "Scraping: https://sustainability.umd.edu/partnering-goals/sdg-2\n",
      "Failed to fetch https://sustainability.umd.edu/partnering-goals/sdg-2: 404 Client Error: Not Found for url: https://sustainability.umd.edu/partnering-goals/sdg-2\n",
      "Scraping: https://sustainability.umd.edu/partnering-goals/sdg-11\n",
      "Failed to fetch https://sustainability.umd.edu/partnering-goals/sdg-11: 404 Client Error: Not Found for url: https://sustainability.umd.edu/partnering-goals/sdg-11\n",
      "Scraping: https://sustainability.umd.edu/celebrating-stories/sustainableumd-news\n",
      "Failed to fetch https://sustainability.umd.edu/celebrating-stories/sustainableumd-news: 404 Client Error: Not Found for url: https://sustainability.umd.edu/celebrating-stories/sustainableumd-news\n",
      "Scraping: https://sustainability.umd.edu/partnering-goals/sdg-3\n",
      "Failed to fetch https://sustainability.umd.edu/partnering-goals/sdg-3: 404 Client Error: Not Found for url: https://sustainability.umd.edu/partnering-goals/sdg-3\n",
      "Scraping: https://sustainability.umd.edu/partnering-goals/sdg-12\n",
      "Failed to fetch https://sustainability.umd.edu/partnering-goals/sdg-12: 404 Client Error: Not Found for url: https://sustainability.umd.edu/partnering-goals/sdg-12\n",
      "Scraping: https://sustainability.umd.edu/progress-commitments/sustainability-council-goals\n",
      "Failed to fetch https://sustainability.umd.edu/progress-commitments/sustainability-council-goals: 404 Client Error: Not Found for url: https://sustainability.umd.edu/progress-commitments/sustainability-council-goals\n",
      "Scraping: https://sustainability.umd.edu/celebrating-stories/sustainability-maryland-today\n",
      "Failed to fetch https://sustainability.umd.edu/celebrating-stories/sustainability-maryland-today: 404 Client Error: Not Found for url: https://sustainability.umd.edu/celebrating-stories/sustainability-maryland-today\n",
      "Scraping: https://sustainability.umd.edu/partnering-goals/sdg-1\n",
      "Failed to fetch https://sustainability.umd.edu/partnering-goals/sdg-1: 404 Client Error: Not Found for url: https://sustainability.umd.edu/partnering-goals/sdg-1\n",
      "Scraping: https://sustainability.umd.edu/partnering-goals/sdg-14\n",
      "Failed to fetch https://sustainability.umd.edu/partnering-goals/sdg-14: 404 Client Error: Not Found for url: https://sustainability.umd.edu/partnering-goals/sdg-14\n",
      "Scraping: https://sustainability.umd.edu/partnering-goals/sdg-7\n",
      "Failed to fetch https://sustainability.umd.edu/partnering-goals/sdg-7: 404 Client Error: Not Found for url: https://sustainability.umd.edu/partnering-goals/sdg-7\n",
      "Scraping: https://sustainability.umd.edu/measuring-progress\n",
      "Failed to fetch https://sustainability.umd.edu/measuring-progress: 404 Client Error: Not Found for url: https://sustainability.umd.edu/measuring-progress\n",
      "Scraping: https://sustainability.umd.edu/partnering-goals/sdg-4\n",
      "Failed to fetch https://sustainability.umd.edu/partnering-goals/sdg-4: 404 Client Error: Not Found for url: https://sustainability.umd.edu/partnering-goals/sdg-4\n",
      "Scraping: https://sustainability.umd.edu/about/office-sustainability/muqarib-t-anwar\n",
      "Scraping: https://sustainability.umd.edu/about/office-sustainability/caroline-johnson-0\n",
      "Scraping: https://sustainability.umd.edu/about/office-sustainability/savannah-holt\n",
      "Scraping: https://sustainability.umd.edu/about/office-sustainability/solana-page-0\n",
      "Scraping: https://sustainability.umd.edu/about/office-sustainability/isaiah-lee\n",
      "Scraping: https://sustainability.umd.edu/about/office-sustainability/trisha-raghuram\n",
      "Scraping: https://sustainability.umd.edu/about/office-sustainability/taylor-brinks\n",
      "Scraping: https://sustainability.umd.edu/about/office-sustainability/elana-naide-0\n",
      "Scraping: https://sustainability.umd.edu/progress-commitments/other-commitments\n",
      "Scraping: https://sustainability.umd.edu/progress/carbon-offsetting\n",
      "Scraping: https://sustainability.umd.edu/topics/waste/can-can-mini-bin-program\n",
      "Scraping: https://sustainability.umd.edu/compost\n",
      "Scraping: https://sustainability.umd.edu/topics/waste/compost/accepted-compostable-bags\n",
      "Scraping: https://sustainability.umd.edu/campus/waste/campus-race-zero-waste\n",
      "Scraping: https://sustainability.umd.edu/topics/waste/how-sort-recycle-compost-landfill-bins\n",
      "Scraping: https://sustainability.umd.edu/topics/transport/idle-free-umd\n",
      "Scraping: https://sustainability.umd.edu/carbonneutral2025\n",
      "Scraping: https://sustainability.umd.edu/colors-change-sustainability-arts\n",
      "Scraping: https://sustainability.umd.edu/earth-month-2025\n",
      "Total for sustainability site: 819\n",
      "Data saved to umd_sustainability_data.json\n",
      "Scraping: https://sustainingprogress.umd.edu/\n",
      "Scraping: https://sustainingprogress.umd.edu/carbon-offset-projects\n",
      "Scraping: https://sustainingprogress.umd.edu/celebrating-stories/sustainability-maryland-today\n",
      "Scraping: https://sustainingprogress.umd.edu/ClimateActionPlan\n",
      "Scraping: https://sustainingprogress.umd.edu/climate-research\n",
      "Scraping: https://sustainingprogress.umd.edu/measuring-progress/education-sustainability\n",
      "Scraping: https://sustainingprogress.umd.edu/measuring-progress/sustainable-water-use\n",
      "Scraping: https://sustainingprogress.umd.edu/partnering-goals/sdg-2\n",
      "Scraping: https://sustainingprogress.umd.edu/partnering-goals/sdg-9\n",
      "Scraping: https://sustainingprogress.umd.edu/partnering-goals/sdg-8\n",
      "Scraping: https://sustainingprogress.umd.edu/partnering-goals/sdg-14\n",
      "Scraping: https://sustainingprogress.umd.edu/carbon-offset-program\n",
      "Scraping: https://sustainingprogress.umd.edu/measuring-progress/tableau-instructions\n",
      "Scraping: https://sustainingprogress.umd.edu/progress-commitments/sustainability-council-goals\n",
      "Scraping: https://sustainingprogress.umd.edu/guiding-commitments/climate-action-plan/resilience-changing-climate\n",
      "Scraping: https://sustainingprogress.umd.edu/partnering-goals/sdg-1\n",
      "Scraping: https://sustainingprogress.umd.edu/celebrating-stories\n",
      "Scraping: https://sustainingprogress.umd.edu/celebrating-stories/tiny-bugs-big-impact\n",
      "Scraping: https://sustainingprogress.umd.edu/directory/clare-gallagher\n",
      "Scraping: https://sustainingprogress.umd.edu/partnering-goals/sdg-12\n",
      "Scraping: https://sustainingprogress.umd.edu/partnering-goals/sdg-13\n",
      "Scraping: https://sustainingprogress.umd.edu/progress-commitments\n",
      "Scraping: https://sustainingprogress.umd.edu/progress-commitments/climate-action-plan\n",
      "Scraping: https://sustainingprogress.umd.edu/measuring-progress\n",
      "Scraping: https://sustainingprogress.umd.edu/partnering-goals/sdg-17\n",
      "Scraping: https://sustainingprogress.umd.edu/measuring-progress/carbon-footprint\n",
      "Scraping: https://sustainingprogress.umd.edu/partnering-goals/sdg-6\n",
      "Scraping: https://sustainingprogress.umd.edu/partnering-goals/sdg-4\n",
      "Scraping: https://sustainingprogress.umd.edu/partnering-goals/sdg-5\n",
      "Scraping: https://sustainingprogress.umd.edu/celebrating-stories/sustainableumd-news\n",
      "Scraping: https://sustainingprogress.umd.edu/celebrating-stories/campus-sustainability-month-celebration-festivities\n",
      "Scraping: https://sustainingprogress.umd.edu/celebrating-stories/other-resources-sustainability-umd\n",
      "Scraping: https://sustainingprogress.umd.edu/partnering-goals\n",
      "Scraping: https://sustainingprogress.umd.edu/partnering-goals/sdg-15\n",
      "Scraping: https://sustainingprogress.umd.edu/measuring-progress/waste-minimization\n",
      "Scraping: https://sustainingprogress.umd.edu/celebrating-stories/terp-terp-campus-reuse-store\n",
      "Scraping: https://sustainingprogress.umd.edu/partnering-goals/sdg-11\n",
      "Scraping: https://sustainingprogress.umd.edu/partnering-goals/sdg-10\n",
      "Scraping: https://sustainingprogress.umd.edu/climate-change-resources/climate-emotions\n",
      "Scraping: https://sustainingprogress.umd.edu/partnering-goals/sdg-7\n",
      "Scraping: https://sustainingprogress.umd.edu/measuring-progress/smart-growth\n",
      "Scraping: https://sustainingprogress.umd.edu/partnering-goals/sdg-3\n",
      "Scraping: https://sustainingprogress.umd.edu/partnering-goals/sdg-16\n",
      "Scraping: https://sustainingprogress.umd.edu/climate-resources\n",
      "Scraping: https://sustainingprogress.umd.edu/node/181\n",
      "Scraping: https://sustainingprogress.umd.edu/measuring-progress/local-and-global-impact\n",
      "Scraping: https://sustainingprogress.umd.edu/10-years-sustainable-food\n",
      "Scraping: https://sustainingprogress.umd.edu/climate-change-resources/climate-justice\n",
      "Scraping: https://sustainingprogress.umd.edu/guiding-commitments/climate-action-plan/climate-emotions\n",
      "Scraping: https://sustainingprogress.umd.edu/climate-justice\n",
      "Scraping: https://sustainingprogress.umd.edu/resilience-changing-climate\n",
      "Scraping: https://sustainingprogress.umd.edu/directory/emily-hightower\n",
      "Scraping: https://sustainingprogress.umd.edu/celebrating-stories/umds-journey-curbing-waste\n",
      "Scraping: https://sustainingprogress.umd.edu/directory/adrienne-small\n",
      "Scraping: https://sustainingprogress.umd.edu/measuring-progress/carbon-neutrality\n",
      "Scraping: https://sustainingprogress.umd.edu/celebrating-stories/office-sustainability-participates-parking-day\n",
      "Scraping: https://sustainingprogress.umd.edu/2020-2021-year-in-review\n",
      "Scraping: https://sustainingprogress.umd.edu/building-future\n",
      "Scraping: https://sustainingprogress.umd.edu/views-campus-creek\n",
      "Scraping: https://sustainingprogress.umd.edu/celebrating-stories/students-experience-earthfest-festivities\n",
      "Scraping: https://sustainingprogress.umd.edu/celebrating-stories/sustainability-career-panel-connects-students-and-alumni\n",
      "Scraping: https://sustainingprogress.umd.edu/directory/michelle-wang\n",
      "Scraping: https://sustainingprogress.umd.edu/celebrating-stories/pedaling-for-sustainability\n",
      "Scraping: https://sustainingprogress.umd.edu/directory/savannah-holt\n",
      "Scraping: https://sustainingprogress.umd.edu/celebrating-stories/umd-community-collaborates-compete-bioblitz\n",
      "Scraping: https://sustainingprogress.umd.edu/celebrating-stories/staff-faculty-win-flowers-discuss-sustainability-badge\n",
      "Scraping: https://sustainingprogress.umd.edu/directory/taylor-brinks\n",
      "Scraping: https://sustainingprogress.umd.edu/celebrating-stories/earthfest-fun-mckeldin-mall\n",
      "Scraping: https://sustainingprogress.umd.edu/measuring-campus-forest-carbon\n",
      "Scraping: https://sustainingprogress.umd.edu/celebrating-stories/growing-gardens-grants\n",
      "Scraping: https://sustainingprogress.umd.edu/celebrating-stories/more-just-golf-course-restoring-umds-golf-course-educational-biodiversity\n",
      "Scraping: https://sustainingprogress.umd.edu/directory/nicole-pilsbury\n",
      "Scraping: https://sustainingprogress.umd.edu/celebrating-stories/campus-celebrates-bike-week\n",
      "Scraping: https://sustainingprogress.umd.edu/celebrating-stories/testing-waste-sorting-knowledge-farmers-market\n",
      "Scraping: https://sustainingprogress.umd.edu/celebrating-stories/office-sustainability-tables-terp-terp-open-shop\n",
      "Scraping: https://sustainingprogress.umd.edu/celebrating-stories/celebrating-decades-progress-campus-sustainability-month\n",
      "Scraping: https://sustainingprogress.umd.edu/celebrating-stories/green-chapter-dumpster-painting\n",
      "Scraping: https://sustainingprogress.umd.edu/celebrating-stories/2018-student-concern-environment-has-increased\n",
      "Scraping: https://sustainingprogress.umd.edu/directory/dyani-frye\n",
      "Scraping: https://sustainingprogress.umd.edu/celebrating-stories/plant-giveaway-and-pot-painting-farmers-market\n",
      "Scraping: https://sustainingprogress.umd.edu/celebrating-stories/getting-greener-sustainability-fund-updates-fall-2022\n",
      "Scraping: https://sustainingprogress.umd.edu/celebrating-stories/office-sustainability-takes-holiday-market\n",
      "Scraping: https://sustainingprogress.umd.edu/celebrating-stories/first-look-fair-excitement-and-engagement\n",
      "Scraping: https://sustainingprogress.umd.edu/celebrating-stories/community-members-experience-campus-life-maryland-day\n",
      "Scraping: https://sustainingprogress.umd.edu/celebrating-stories/staff-enjoy-coffee-and-explore-sustainability-programs\n",
      "Scraping: https://sustainingprogress.umd.edu/celebrating-stories/informative-sustainability-career-panel-held\n",
      "Scraping: https://sustainingprogress.umd.edu/celebrating-stories/funding-future-2022-23\n",
      "Scraping: https://sustainingprogress.umd.edu/directory/rose-rodriguez\n",
      "Scraping: https://sustainingprogress.umd.edu/celebrating-stories/engineering-reduced-waste-future-terrapin-works-and-enes100-sustainable-strides\n",
      "Scraping: https://sustainingprogress.umd.edu/celebrating-stories/six-sustainability-stories-terps-who-changed-umd\n",
      "Scraping: https://sustainingprogress.umd.edu/directory/taylor-brinks-nicole-pilsbury\n",
      "Scraping: https://sustainingprogress.umd.edu/progress-commitments/climate-action-plan/\n",
      "Scraping: https://sustainingprogress.umd.edu/node/143\n",
      "Scraping: https://sustainingprogress.umd.edu/node/130\n",
      "Scraping: https://sustainingprogress.umd.edu/node/129\n",
      "Scraping: https://sustainingprogress.umd.edu/umd-carbon-offsets-projects\n",
      "Scraping: https://sustainingprogress.umd.edu/highlights-each-umd-cap\n",
      "Scraping: https://sustainingprogress.umd.edu/climate-action-plan-30-acknowledgements\n",
      "Scraping: https://sustainingprogress.umd.edu/node/180\n",
      "Scraping: https://sustainingprogress.umd.edu/guiding-commitments/climate-action-plan/climate-justice\n",
      "Scraping: https://sustainingprogress.umd.edu/keeping-our-climate-pledge\n",
      "Scraping: https://sustainingprogress.umd.edu/take-action-now\n",
      "Total for sustainingprogress site: 801\n",
      "Data saved to umd_sustainingprogress_data.json\n"
     ]
    }
   ],
   "source": [
    "data_count = 0\n",
    "\n",
    "for site in sites:\n",
    "  scraper = UMDWebScraper(site)\n",
    "  scraper.scrape(site)\n",
    "\n",
    "  site_name = get_site_name(site)\n",
    "  print(f\"Total for {site_name} site: {len(scraper.data)}\")\n",
    "  data_count += len(scraper.data)\n",
    "  scraper.save_data(f\"umd_{site_name}_data.json\")"
   ]
  },
  {
   "cell_type": "code",
   "execution_count": 15,
   "metadata": {
    "colab": {
     "base_uri": "https://localhost:8080/"
    },
    "executionInfo": {
     "elapsed": 12,
     "status": "ok",
     "timestamp": 1745728505382,
     "user": {
      "displayName": "Ethan Yen",
      "userId": "12081195132296732157"
     },
     "user_tz": 240
    },
    "id": "hA8M6whJhvpu",
    "outputId": "6ea5e64b-803a-433d-e74b-70093d735e45"
   },
   "outputs": [
    {
     "data": {
      "text/plain": [
       "1620"
      ]
     },
     "execution_count": 15,
     "metadata": {},
     "output_type": "execute_result"
    }
   ],
   "source": [
    "data_count"
   ]
  },
  {
   "cell_type": "code",
   "execution_count": null,
   "metadata": {
    "id": "x_PusZjzhwUu"
   },
   "outputs": [],
   "source": []
  }
 ],
 "metadata": {
  "colab": {
   "authorship_tag": "ABX9TyN0ZCgeeNCogEW3KXYeikno",
   "provenance": []
  },
  "kernelspec": {
   "display_name": "Python 3",
   "name": "python3"
  },
  "language_info": {
   "name": "python"
  }
 },
 "nbformat": 4,
 "nbformat_minor": 0
}
