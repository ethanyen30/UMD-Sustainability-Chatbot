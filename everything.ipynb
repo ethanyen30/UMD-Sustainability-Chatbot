{
 "cells": [
  {
   "cell_type": "code",
   "execution_count": 1,
   "id": "283e723b",
   "metadata": {},
   "outputs": [
    {
     "name": "stderr",
     "output_type": "stream",
     "text": [
      "c:\\Users\\ethan\\Desktop\\umd\\s4 spring 2025\\HDCC209B\\UMD-Sustainability-Chatbot\\venv\\Lib\\site-packages\\tqdm\\auto.py:21: TqdmWarning: IProgress not found. Please update jupyter and ipywidgets. See https://ipywidgets.readthedocs.io/en/stable/user_install.html\n",
      "  from .autonotebook import tqdm as notebook_tqdm\n"
     ]
    },
    {
     "data": {
      "text/plain": [
       "<module 'umd_webscraper' from 'c:\\\\Users\\\\ethan\\\\Desktop\\\\umd\\\\s4 spring 2025\\\\HDCC209B\\\\UMD-Sustainability-Chatbot\\\\umd_webscraper.py'>"
      ]
     },
     "execution_count": 1,
     "metadata": {},
     "output_type": "execute_result"
    }
   ],
   "source": [
    "from langsmith import traceable, utils\n",
    "from langchain_google_genai import ChatGoogleGenerativeAI, GoogleGenerativeAIEmbeddings\n",
    "from dotenv import load_dotenv\n",
    "import re\n",
    "import umd_rag\n",
    "import pineconing\n",
    "import umd_webscraper\n",
    "\n",
    "import importlib\n",
    "importlib.reload(umd_rag)\n",
    "importlib.reload(pineconing)\n",
    "importlib.reload(umd_webscraper)"
   ]
  },
  {
   "cell_type": "markdown",
   "id": "caa620b9",
   "metadata": {},
   "source": [
    "Load environment variables from .env"
   ]
  },
  {
   "cell_type": "code",
   "execution_count": 2,
   "id": "ad2f134a",
   "metadata": {},
   "outputs": [
    {
     "data": {
      "text/plain": [
       "True"
      ]
     },
     "execution_count": 2,
     "metadata": {},
     "output_type": "execute_result"
    }
   ],
   "source": [
    "load_dotenv(override=True)"
   ]
  },
  {
   "cell_type": "markdown",
   "id": "c693773e",
   "metadata": {},
   "source": [
    "#### Web Scraping ####"
   ]
  },
  {
   "cell_type": "code",
   "execution_count": 3,
   "id": "2a57b573",
   "metadata": {},
   "outputs": [],
   "source": [
    "sites = [\"https://sustainability.umd.edu/\",\n",
    "         \"https://sustainingprogress.umd.edu/\"]"
   ]
  },
  {
   "cell_type": "code",
   "execution_count": 4,
   "id": "5114b31a",
   "metadata": {},
   "outputs": [],
   "source": [
    "def get_site_name(site):\n",
    "  site_re = re.compile(r'^https://([A-Za-z0-9]*).umd.edu/$')\n",
    "\n",
    "  matched = re.match(site_re, site)\n",
    "  if matched:\n",
    "    return matched.group(1)\n",
    "  else:\n",
    "    raise Exception(\"Not good site name (not umd)\")"
   ]
  },
  {
   "cell_type": "markdown",
   "id": "f77b6b42",
   "metadata": {},
   "source": [
    "Scrape all sites"
   ]
  },
  {
   "cell_type": "code",
   "execution_count": null,
   "id": "087d2602",
   "metadata": {},
   "outputs": [],
   "source": [
    "data_count = 0\n",
    "\n",
    "for site in sites:\n",
    "  scraper = umd_webscraper.UMDWebScraper(site)\n",
    "  scraper.scrape(site)\n",
    "\n",
    "  site_name = get_site_name(site)\n",
    "  print(f\"Total for {site_name} site: {len(scraper.data)}\")\n",
    "  data_count += len(scraper.data)\n",
    "  scraper.save_data(f\"umd_{site_name}_data.json\")"
   ]
  },
  {
   "cell_type": "code",
   "execution_count": null,
   "id": "68a8f016",
   "metadata": {},
   "outputs": [],
   "source": [
    "data_count"
   ]
  },
  {
   "cell_type": "markdown",
   "id": "843664b3",
   "metadata": {},
   "source": [
    "### Embedding into vector storage ###"
   ]
  },
  {
   "cell_type": "code",
   "execution_count": 5,
   "id": "a66914b7",
   "metadata": {},
   "outputs": [
    {
     "name": "stdout",
     "output_type": "stream",
     "text": [
      "Index exists already\n"
     ]
    }
   ],
   "source": [
    "vector_db = pineconing.VectorDB()"
   ]
  },
  {
   "cell_type": "code",
   "execution_count": 6,
   "id": "eebff45a",
   "metadata": {},
   "outputs": [
    {
     "data": {
      "text/plain": [
       "{'dimension': 768,\n",
       " 'index_fullness': 0.0,\n",
       " 'metric': 'cosine',\n",
       " 'namespaces': {'file_data': {'vector_count': 1620},\n",
       "                'own_data': {'vector_count': 1}},\n",
       " 'total_vector_count': 1621,\n",
       " 'vector_type': 'dense'}"
      ]
     },
     "execution_count": 6,
     "metadata": {},
     "output_type": "execute_result"
    }
   ],
   "source": [
    "vector_db.index.describe_index_stats()"
   ]
  },
  {
   "cell_type": "markdown",
   "id": "802dbaa6",
   "metadata": {},
   "source": [
    "Loading embedding model:\n",
    "\n",
    "- SentenceTransformer (all-MiniLM-L6-v2)\n",
    "- GoogleGenerativeAIEmbeddings (models/embedding-001)"
   ]
  },
  {
   "cell_type": "code",
   "execution_count": 7,
   "id": "e2092748",
   "metadata": {},
   "outputs": [],
   "source": [
    "embedding_model = GoogleGenerativeAIEmbeddings(model='models/embedding-001')"
   ]
  },
  {
   "cell_type": "markdown",
   "id": "0768961f",
   "metadata": {},
   "source": [
    "#### Adding Data ####\n",
    "We only need to do this once"
   ]
  },
  {
   "cell_type": "markdown",
   "id": "df7455aa",
   "metadata": {},
   "source": [
    "By files"
   ]
  },
  {
   "cell_type": "code",
   "execution_count": null,
   "id": "406f7f35",
   "metadata": {},
   "outputs": [],
   "source": [
    "files = [\"umd_sustainability_data.json\",\n",
    "         \"umd_sustainingprogress_data.json\"]\n",
    "\n",
    "vector_db.upsert_files(files)"
   ]
  },
  {
   "cell_type": "markdown",
   "id": "11930e9d",
   "metadata": {},
   "source": [
    "By own data"
   ]
  },
  {
   "cell_type": "code",
   "execution_count": null,
   "id": "5b7d8779",
   "metadata": {},
   "outputs": [],
   "source": [
    "our_data = \"The shortened link for our water refilling stations is ter.ps/heartthetap\"\n",
    "vector_db.upsert_own_data(our_data)"
   ]
  },
  {
   "cell_type": "markdown",
   "id": "92ebd4bf",
   "metadata": {},
   "source": [
    "### Retrieving and Generating (RAG) with langchain/langsmith tracing ###"
   ]
  },
  {
   "cell_type": "code",
   "execution_count": 8,
   "id": "d9c84cd2",
   "metadata": {},
   "outputs": [
    {
     "data": {
      "text/plain": [
       "True"
      ]
     },
     "execution_count": 8,
     "metadata": {},
     "output_type": "execute_result"
    }
   ],
   "source": [
    "utils.tracing_is_enabled()"
   ]
  },
  {
   "cell_type": "markdown",
   "id": "1b3bea20",
   "metadata": {},
   "source": [
    "### Using langchain google generative ai ###"
   ]
  },
  {
   "cell_type": "code",
   "execution_count": 9,
   "id": "a2df1403",
   "metadata": {},
   "outputs": [],
   "source": [
    "google_model = \"gemini-2.0-flash-lite\"\n",
    "llm = ChatGoogleGenerativeAI(model=google_model)\n",
    "\n",
    "rag = umd_rag.UMDRAG(vector_db, llm)"
   ]
  },
  {
   "cell_type": "code",
   "execution_count": 10,
   "id": "6cdf0da9",
   "metadata": {},
   "outputs": [
    {
     "data": {
      "text/plain": [
       "AIMessage(content='UMD is committed to addressing the grand challenges of climate change and sustainability. The university recognizes the importance of healthy water, air, and ecosystems for a thriving society. UMD strives to empower students, faculty, and staff to take sustainable steps by bringing local and global systems into balance, redesigning processes to conserve resources, and experimenting with novel sustainable practices.', additional_kwargs={}, response_metadata={'prompt_feedback': {'block_reason': 0, 'safety_ratings': []}, 'finish_reason': 'STOP', 'model_name': 'gemini-2.0-flash-lite', 'safety_ratings': []}, id='run-e88d329a-f153-44e1-a03e-ca17c937a61d-0', usage_metadata={'input_tokens': 1432, 'output_tokens': 72, 'total_tokens': 1504, 'input_token_details': {'cache_read': 0}})"
      ]
     },
     "execution_count": 10,
     "metadata": {},
     "output_type": "execute_result"
    }
   ],
   "source": [
    "rag.pipe(\"What are some of the challenges of sustainability at UMD?\")\n"
   ]
  }
 ],
 "metadata": {
  "kernelspec": {
   "display_name": "venv",
   "language": "python",
   "name": "python3"
  },
  "language_info": {
   "codemirror_mode": {
    "name": "ipython",
    "version": 3
   },
   "file_extension": ".py",
   "mimetype": "text/x-python",
   "name": "python",
   "nbconvert_exporter": "python",
   "pygments_lexer": "ipython3",
   "version": "3.12.10"
  }
 },
 "nbformat": 4,
 "nbformat_minor": 5
}
