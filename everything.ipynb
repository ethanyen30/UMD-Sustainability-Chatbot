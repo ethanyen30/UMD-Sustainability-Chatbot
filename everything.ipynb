{
 "cells": [
  {
   "cell_type": "code",
   "execution_count": 1,
   "id": "283e723b",
   "metadata": {},
   "outputs": [
    {
     "name": "stderr",
     "output_type": "stream",
     "text": [
      "c:\\Users\\ethan\\Desktop\\umd\\s4 spring 2025\\HDCC209B\\UMD-Sustainability-Chatbot\\venv\\Lib\\site-packages\\tqdm\\auto.py:21: TqdmWarning: IProgress not found. Please update jupyter and ipywidgets. See https://ipywidgets.readthedocs.io/en/stable/user_install.html\n",
      "  from .autonotebook import tqdm as notebook_tqdm\n"
     ]
    }
   ],
   "source": [
    "from langsmith import traceable, utils\n",
    "from langchain_google_genai import ChatGoogleGenerativeAI, GoogleGenerativeAIEmbeddings\n",
    "from dotenv import load_dotenv\n",
    "import re\n",
    "import umd_rag\n",
    "import pineconing\n",
    "import umd_webscraper\n",
    "import my_utils\n",
    "\n",
    "import importlib"
   ]
  },
  {
   "cell_type": "code",
   "execution_count": 9,
   "id": "9eec7177",
   "metadata": {},
   "outputs": [
    {
     "data": {
      "text/plain": [
       "<module 'my_utils' from 'c:\\\\Users\\\\ethan\\\\Desktop\\\\umd\\\\s4 spring 2025\\\\HDCC209B\\\\UMD-Sustainability-Chatbot\\\\my_utils.py'>"
      ]
     },
     "execution_count": 9,
     "metadata": {},
     "output_type": "execute_result"
    }
   ],
   "source": [
    "importlib.reload(umd_rag)\n",
    "importlib.reload(pineconing)\n",
    "importlib.reload(umd_webscraper)\n",
    "importlib.reload(my_utils)"
   ]
  },
  {
   "cell_type": "markdown",
   "id": "caa620b9",
   "metadata": {},
   "source": [
    "Load environment variables from .env"
   ]
  },
  {
   "cell_type": "code",
   "execution_count": 10,
   "id": "ad2f134a",
   "metadata": {},
   "outputs": [
    {
     "data": {
      "text/plain": [
       "True"
      ]
     },
     "execution_count": 10,
     "metadata": {},
     "output_type": "execute_result"
    }
   ],
   "source": [
    "load_dotenv(override=True)"
   ]
  },
  {
   "cell_type": "markdown",
   "id": "c693773e",
   "metadata": {},
   "source": [
    "#### Web Scraping ####"
   ]
  },
  {
   "cell_type": "code",
   "execution_count": 11,
   "id": "2a57b573",
   "metadata": {},
   "outputs": [],
   "source": [
    "sites = [\"https://sustainability.umd.edu/\",\n",
    "         \"https://sustainingprogress.umd.edu/\"]"
   ]
  },
  {
   "cell_type": "code",
   "execution_count": 12,
   "id": "5114b31a",
   "metadata": {},
   "outputs": [],
   "source": [
    "def get_site_name(site):\n",
    "  site_re = re.compile(r'^https://([A-Za-z0-9]*).umd.edu/$')\n",
    "\n",
    "  matched = re.match(site_re, site)\n",
    "  if matched:\n",
    "    return matched.group(1)\n",
    "  else:\n",
    "    raise Exception(\"Not good site name (not umd)\")"
   ]
  },
  {
   "cell_type": "markdown",
   "id": "f77b6b42",
   "metadata": {},
   "source": [
    "Scrape all sites"
   ]
  },
  {
   "cell_type": "code",
   "execution_count": null,
   "id": "087d2602",
   "metadata": {},
   "outputs": [
    {
     "name": "stdout",
     "output_type": "stream",
     "text": [
      "Scraping: https://sustainability.umd.edu/\n",
      "Scraping: https://sustainability.umd.edu/transportation\n",
      "Scraping: https://sustainability.umd.edu/about/contact-us\n",
      "Scraping: https://sustainability.umd.edu/OS\n",
      "Scraping: https://sustainability.umd.edu/about/office-sustainability/trisha-raghuram\n",
      "Scraping: https://sustainability.umd.edu/news\n",
      "Scraping: https://sustainability.umd.edu/sustainability-grants/umd-sustainability-mini-grant\n",
      "Scraping: https://sustainability.umd.edu/education-and-research/majors-minors-graduate-programs\n",
      "Scraping: https://sustainability.umd.edu/sustainability-education-research\n",
      "Scraping: https://sustainability.umd.edu/progress/reports-other-resources\n",
      "Scraping: https://sustainability.umd.edu/about/sustainability-council\n",
      "Scraping: https://sustainability.umd.edu/node/155\n",
      "Scraping: https://sustainability.umd.edu/education-and-research/living-learning-programs\n",
      "Scraping: https://sustainability.umd.edu/about\n",
      "Scraping: https://sustainability.umd.edu/waste\n",
      "Scraping: https://sustainability.umd.edu/compost\n",
      "Scraping: https://sustainability.umd.edu/topics/waste/compost/accepted-compostable-bags\n",
      "Scraping: https://sustainability.umd.edu/water\n",
      "Scraping: https://sustainability.umd.edu/topics/water/water-initiatives\n",
      "Scraping: https://sustainability.umd.edu/education-and-research/student-projects\n",
      "Scraping: https://sustainability.umd.edu/about/grants\n",
      "Failed to fetch https://sustainability.umd.edu/about/grants: 403 Client Error: Forbidden for url: https://sustainability.umd.edu/about/grants\n",
      "Scraping: https://sustainability.umd.edu/about/donate\n",
      "Scraping: https://sustainability.umd.edu/advisors\n",
      "Scraping: https://sustainability.umd.edu/buildings\n",
      "Scraping: https://sustainability.umd.edu/food\n",
      "Scraping: https://sustainability.umd.edu/education-and-research/sustainability-teaching-fellows\n",
      "Failed to fetch https://sustainability.umd.edu/education-and-research/sustainability-teaching-fellows: 403 Client Error: Forbidden for url: https://sustainability.umd.edu/education-and-research/archive-sustainability-teaching-fellows\n",
      "Scraping: https://sustainability.umd.edu/sustainability-grants/umd-sustainability-fund-grant\n",
      "Scraping: https://sustainability.umd.edu/umd-sustainability-mini-grant\n",
      "Scraping: https://sustainability.umd.edu/education-and-research/research-centers\n",
      "Scraping: https://sustainability.umd.edu/grants\n",
      "Scraping: https://sustainability.umd.edu/umd-sustainability-fund-grant\n",
      "Scraping: https://sustainability.umd.edu/about/sustainability-fund/grant-recipients\n",
      "Scraping: https://sustainability.umd.edu/about/sustainableumd-network\n",
      "Scraping: https://sustainability.umd.edu/green-purchasing\n",
      "Scraping: https://sustainability.umd.edu/energy\n",
      "Scraping: https://sustainability.umd.edu/progress-commitments/other-commitments\n",
      "Scraping: https://sustainability.umd.edu/get-involved\n",
      "Scraping: https://sustainability.umd.edu/sustainableumd-outreach-bike\n",
      "Scraping: https://sustainability.umd.edu/landscape\n",
      "Scraping: https://sustainability.umd.edu/sustainability-grants/other-funding-sources\n",
      "Scraping: https://sustainability.umd.edu/topics\n",
      "Scraping: https://sustainability.umd.edu/progress-commitments\n",
      "Scraping: https://sustainability.umd.edu/home\n",
      "Scraping: https://sustainability.umd.edu/node/150\n",
      "Scraping: https://sustainability.umd.edu/get-involved/everyone/trails-green-spaces-around-umd\n",
      "Scraping: https://sustainability.umd.edu/get-involved/everyone/sustainableumd-outreach-bike\n",
      "Scraping: https://sustainability.umd.edu/ambassadors\n",
      "Scraping: https://sustainability.umd.edu/get-involved/students/internships\n",
      "Scraping: https://sustainability.umd.edu/get-involved/students/become-green-terp\n",
      "Scraping: https://sustainability.umd.edu/get-involved/students/green-chapter\n",
      "Scraping: https://sustainability.umd.edu/student-groups\n",
      "Scraping: https://sustainability.umd.edu/office-sustainability-internships\n",
      "Scraping: https://sustainability.umd.edu/internships\n",
      "Scraping: https://sustainability.umd.edu/about/office-sustainability/kyra-persson\n",
      "Scraping: https://sustainability.umd.edu/about/office-sustainability/alyssa-aggarwal\n",
      "Scraping: https://sustainability.umd.edu/about/office-sustainability/briana-jacobs\n",
      "Scraping: https://sustainability.umd.edu/about/office-sustainability/hannah-altberger\n",
      "Scraping: https://sustainability.umd.edu/about/office-sustainability/kyla-erman\n",
      "Scraping: https://sustainability.umd.edu/about/office-sustainability/yalissa-scott\n",
      "Scraping: https://sustainability.umd.edu/about/office-sustainability/vivian-maneval\n",
      "Scraping: https://sustainability.umd.edu/about/office-sustainability/manvi-kalachagari\n",
      "Scraping: https://sustainability.umd.edu/about/office-sustainability/adeline-murray\n",
      "Scraping: https://sustainability.umd.edu/get-involved/walk-md-day-guide-trails-green-spaces-wellness-tips\n",
      "Scraping: https://sustainability.umd.edu/get-involved/sustainability-badge\n",
      "Scraping: https://sustainability.umd.edu/get-involved/staff/sustainability-badge\n",
      "Scraping: https://sustainability.umd.edu/get-involved/staff/green-labs\n",
      "Scraping: https://sustainability.umd.edu/greenworkspace\n",
      "Scraping: https://sustainability.umd.edu/get-involved/staff/green-workspace-program/innovation-credits\n",
      "Scraping: https://sustainability.umd.edu/get-involved/staff/green-workspace-program/introducing-green-workspace\n",
      "Scraping: https://sustainability.umd.edu/green-workspace-program-details\n",
      "Scraping: https://sustainability.umd.edu/introducing-green-workspace\n",
      "Scraping: https://sustainability.umd.edu/get-involved/staff/green-workspace-program/green-workspace-program-details\n",
      "Scraping: https://sustainability.umd.edu/sustainability-badge\n",
      "Scraping: https://sustainability.umd.edu/innovation-credits\n",
      "Scraping: https://sustainability.umd.edu/sustainability-across-curriculum-workshop\n",
      "Scraping: https://sustainability.umd.edu/internships-opportunities\n",
      "Scraping: https://sustainability.umd.edu/our-guide-sustainable-gifting-ideas-mindful-and-ethical-gifts-season\n",
      "Scraping: https://sustainability.umd.edu/get-involved/green-home-guide\n",
      "Scraping: https://sustainability.umd.edu/get-involved/sustainable-distancing-guide\n",
      "Scraping: https://sustainability.umd.edu/get-involved/students/student-groups\n",
      "Scraping: https://sustainability.umd.edu/tuesdays\n",
      "Scraping: https://sustainability.umd.edu/earthfest-2025\n",
      "Scraping: https://sustainability.umd.edu/get-involved/programs\n",
      "Scraping: https://sustainability.umd.edu/node/117\n",
      "Failed to fetch https://sustainability.umd.edu/node/117: 404 Client Error: Not Found for url: https://sustainability.umd.edu/node/117\n",
      "Scraping: https://sustainability.umd.edu/progress/carbon-offsetting\n",
      "Scraping: https://sustainability.umd.edu/topics/waste/residential-waste\n",
      "Scraping: https://sustainability.umd.edu/node/433\n",
      "Scraping: https://sustainability.umd.edu/progress/climate-action-plan\n",
      "Scraping: https://sustainability.umd.edu/partnering-goals/sdg-10\n",
      "Failed to fetch https://sustainability.umd.edu/partnering-goals/sdg-10: 404 Client Error: Not Found for url: https://sustainability.umd.edu/partnering-goals/sdg-10\n",
      "Scraping: https://sustainability.umd.edu/partnering-goals\n",
      "Failed to fetch https://sustainability.umd.edu/partnering-goals: 404 Client Error: Not Found for url: https://sustainability.umd.edu/partnering-goals\n",
      "Scraping: https://sustainability.umd.edu/partnering-goals/sdg-5\n",
      "Failed to fetch https://sustainability.umd.edu/partnering-goals/sdg-5: 404 Client Error: Not Found for url: https://sustainability.umd.edu/partnering-goals/sdg-5\n",
      "Scraping: https://sustainability.umd.edu/partnering-goals/sdg-16\n",
      "Failed to fetch https://sustainability.umd.edu/partnering-goals/sdg-16: 404 Client Error: Not Found for url: https://sustainability.umd.edu/partnering-goals/sdg-16\n",
      "Scraping: https://sustainability.umd.edu/climate-change-resources/climate-justice\n",
      "Failed to fetch https://sustainability.umd.edu/climate-change-resources/climate-justice: 404 Client Error: Not Found for url: https://sustainability.umd.edu/climate-change-resources/climate-justice\n",
      "Scraping: https://sustainability.umd.edu/partnering-goals/sdg-14\n",
      "Failed to fetch https://sustainability.umd.edu/partnering-goals/sdg-14: 404 Client Error: Not Found for url: https://sustainability.umd.edu/partnering-goals/sdg-14\n",
      "Scraping: https://sustainability.umd.edu/partnering-goals/sdg-13\n",
      "Failed to fetch https://sustainability.umd.edu/partnering-goals/sdg-13: 404 Client Error: Not Found for url: https://sustainability.umd.edu/partnering-goals/sdg-13\n",
      "Scraping: https://sustainability.umd.edu/news/umd-accelerate-carbon-neutrality-goal-2025\n",
      "Scraping: https://sustainability.umd.edu/partnering-goals/sdg-1\n",
      "Failed to fetch https://sustainability.umd.edu/partnering-goals/sdg-1: 404 Client Error: Not Found for url: https://sustainability.umd.edu/partnering-goals/sdg-1\n",
      "Scraping: https://sustainability.umd.edu/partnering-goals/sdg-2\n",
      "Failed to fetch https://sustainability.umd.edu/partnering-goals/sdg-2: 404 Client Error: Not Found for url: https://sustainability.umd.edu/partnering-goals/sdg-2\n",
      "Scraping: https://sustainability.umd.edu/measuring-progress/education-sustainability\n",
      "Failed to fetch https://sustainability.umd.edu/measuring-progress/education-sustainability: 404 Client Error: Not Found for url: https://sustainability.umd.edu/measuring-progress/education-sustainability\n",
      "Scraping: https://sustainability.umd.edu/measuring-progress/tableau-instructions\n",
      "Failed to fetch https://sustainability.umd.edu/measuring-progress/tableau-instructions: 404 Client Error: Not Found for url: https://sustainability.umd.edu/measuring-progress/tableau-instructions\n",
      "Scraping: https://sustainability.umd.edu/partnering-goals/sdg-4\n",
      "Failed to fetch https://sustainability.umd.edu/partnering-goals/sdg-4: 404 Client Error: Not Found for url: https://sustainability.umd.edu/partnering-goals/sdg-4\n",
      "Scraping: https://sustainability.umd.edu/climate-resources\n",
      "Failed to fetch https://sustainability.umd.edu/climate-resources: 404 Client Error: Not Found for url: https://sustainability.umd.edu/climate-resources\n",
      "Scraping: https://sustainability.umd.edu/measuring-progress/carbon-footprint\n",
      "Failed to fetch https://sustainability.umd.edu/measuring-progress/carbon-footprint: 404 Client Error: Not Found for url: https://sustainability.umd.edu/measuring-progress/carbon-footprint\n",
      "Scraping: https://sustainability.umd.edu/partnering-goals/sdg-8\n",
      "Failed to fetch https://sustainability.umd.edu/partnering-goals/sdg-8: 404 Client Error: Not Found for url: https://sustainability.umd.edu/partnering-goals/sdg-8\n",
      "Scraping: https://sustainability.umd.edu/celebrating-stories/sustainableumd-news\n",
      "Failed to fetch https://sustainability.umd.edu/celebrating-stories/sustainableumd-news: 404 Client Error: Not Found for url: https://sustainability.umd.edu/celebrating-stories/sustainableumd-news\n",
      "Scraping: https://sustainability.umd.edu/partnering-goals/sdg-17\n",
      "Failed to fetch https://sustainability.umd.edu/partnering-goals/sdg-17: 404 Client Error: Not Found for url: https://sustainability.umd.edu/partnering-goals/sdg-17\n",
      "Scraping: https://sustainability.umd.edu/partnering-goals/sdg-6\n",
      "Failed to fetch https://sustainability.umd.edu/partnering-goals/sdg-6: 404 Client Error: Not Found for url: https://sustainability.umd.edu/partnering-goals/sdg-6\n",
      "Scraping: https://sustainability.umd.edu/climate-research\n",
      "Failed to fetch https://sustainability.umd.edu/climate-research: 404 Client Error: Not Found for url: https://sustainability.umd.edu/climate-research\n",
      "Scraping: https://sustainability.umd.edu/guiding-commitments/climate-action-plan/resilience-changing-climate\n",
      "Failed to fetch https://sustainability.umd.edu/guiding-commitments/climate-action-plan/resilience-changing-climate: 404 Client Error: Not Found for url: https://sustainability.umd.edu/guiding-commitments/climate-action-plan/resilience-changing-climate\n",
      "Scraping: https://sustainability.umd.edu/partnering-goals/sdg-15\n",
      "Failed to fetch https://sustainability.umd.edu/partnering-goals/sdg-15: 404 Client Error: Not Found for url: https://sustainability.umd.edu/partnering-goals/sdg-15\n",
      "Scraping: https://sustainability.umd.edu/celebrating-stories\n",
      "Failed to fetch https://sustainability.umd.edu/celebrating-stories: 404 Client Error: Not Found for url: https://sustainability.umd.edu/celebrating-stories\n",
      "Scraping: https://sustainability.umd.edu/celebrating-stories/sustainability-maryland-today\n",
      "Failed to fetch https://sustainability.umd.edu/celebrating-stories/sustainability-maryland-today: 404 Client Error: Not Found for url: https://sustainability.umd.edu/celebrating-stories/sustainability-maryland-today\n",
      "Scraping: https://sustainability.umd.edu/partnering-goals/sdg-11\n",
      "Failed to fetch https://sustainability.umd.edu/partnering-goals/sdg-11: 404 Client Error: Not Found for url: https://sustainability.umd.edu/partnering-goals/sdg-11\n",
      "Scraping: https://sustainability.umd.edu/measuring-progress\n",
      "Failed to fetch https://sustainability.umd.edu/measuring-progress: 404 Client Error: Not Found for url: https://sustainability.umd.edu/measuring-progress\n",
      "Scraping: https://sustainability.umd.edu/measuring-progress/local-and-global-impact\n",
      "Failed to fetch https://sustainability.umd.edu/measuring-progress/local-and-global-impact: 404 Client Error: Not Found for url: https://sustainability.umd.edu/measuring-progress/local-and-global-impact\n",
      "Scraping: https://sustainability.umd.edu/partnering-goals/sdg-3\n",
      "Failed to fetch https://sustainability.umd.edu/partnering-goals/sdg-3: 404 Client Error: Not Found for url: https://sustainability.umd.edu/partnering-goals/sdg-3\n",
      "Scraping: https://sustainability.umd.edu/progress-commitments/sustainability-council-goals\n",
      "Failed to fetch https://sustainability.umd.edu/progress-commitments/sustainability-council-goals: 404 Client Error: Not Found for url: https://sustainability.umd.edu/progress-commitments/sustainability-council-goals\n",
      "Scraping: https://sustainability.umd.edu/measuring-progress/waste-minimization\n",
      "Failed to fetch https://sustainability.umd.edu/measuring-progress/waste-minimization: 404 Client Error: Not Found for url: https://sustainability.umd.edu/measuring-progress/waste-minimization\n",
      "Scraping: https://sustainability.umd.edu/climate-change-resources/climate-emotions\n",
      "Failed to fetch https://sustainability.umd.edu/climate-change-resources/climate-emotions: 404 Client Error: Not Found for url: https://sustainability.umd.edu/climate-change-resources/climate-emotions\n",
      "Scraping: https://sustainability.umd.edu/partnering-goals/sdg-12\n",
      "Failed to fetch https://sustainability.umd.edu/partnering-goals/sdg-12: 404 Client Error: Not Found for url: https://sustainability.umd.edu/partnering-goals/sdg-12\n",
      "Scraping: https://sustainability.umd.edu/measuring-progress/smart-growth\n",
      "Failed to fetch https://sustainability.umd.edu/measuring-progress/smart-growth: 404 Client Error: Not Found for url: https://sustainability.umd.edu/measuring-progress/smart-growth\n",
      "Scraping: https://sustainability.umd.edu/partnering-goals/sdg-7\n",
      "Failed to fetch https://sustainability.umd.edu/partnering-goals/sdg-7: 404 Client Error: Not Found for url: https://sustainability.umd.edu/partnering-goals/sdg-7\n",
      "Scraping: https://sustainability.umd.edu/measuring-progress/sustainable-water-use\n",
      "Failed to fetch https://sustainability.umd.edu/measuring-progress/sustainable-water-use: 404 Client Error: Not Found for url: https://sustainability.umd.edu/measuring-progress/sustainable-water-use\n",
      "Scraping: https://sustainability.umd.edu/celebrating-stories/other-resources-sustainability-umd\n",
      "Failed to fetch https://sustainability.umd.edu/celebrating-stories/other-resources-sustainability-umd: 404 Client Error: Not Found for url: https://sustainability.umd.edu/celebrating-stories/other-resources-sustainability-umd\n",
      "Scraping: https://sustainability.umd.edu/partnering-goals/sdg-9\n",
      "Failed to fetch https://sustainability.umd.edu/partnering-goals/sdg-9: 404 Client Error: Not Found for url: https://sustainability.umd.edu/partnering-goals/sdg-9\n",
      "Scraping: https://sustainability.umd.edu/about/office-sustainability/savannah-holt\n",
      "Scraping: https://sustainability.umd.edu/about/office-sustainability/elana-naide-0\n",
      "Scraping: https://sustainability.umd.edu/about/office-sustainability/ha-pham\n",
      "Scraping: https://sustainability.umd.edu/about/office-sustainability/nicole-pilsbury\n",
      "Scraping: https://sustainability.umd.edu/about/office-sustainability/anushka-tandon\n",
      "Scraping: https://sustainability.umd.edu/about/office-sustainability/sally-deleon\n",
      "Scraping: https://sustainability.umd.edu/about/office-sustainability/elizabeth-morrison\n",
      "Scraping: https://sustainability.umd.edu/about/office-sustainability/muqarib-t-anwar\n",
      "Scraping: https://sustainability.umd.edu/about/office-sustainability/caroline-johnson-0\n",
      "Scraping: https://sustainability.umd.edu/about/office-sustainability/solana-page-0\n",
      "Scraping: https://sustainability.umd.edu/about/office-sustainability/michelle-wang\n",
      "Scraping: https://sustainability.umd.edu/about/office-sustainability/isaiah-lee\n",
      "Scraping: https://sustainability.umd.edu/about/office-sustainability/scott-lupin\n",
      "Scraping: https://sustainability.umd.edu/about/office-sustainability/taylor-brinks\n",
      "Scraping: https://sustainability.umd.edu/about/office-sustainability/dyani-frye\n",
      "Scraping: https://sustainability.umd.edu/about/office-sustainability/quinn-lugenbeel\n",
      "Scraping: https://sustainability.umd.edu/other-funding-sources\n",
      "Scraping: https://sustainability.umd.edu/topics/water/reusable-water-bottle-filling-stations\n",
      "Scraping: https://sustainability.umd.edu/get-involved/green-office-program\n",
      "Scraping: https://sustainability.umd.edu/get-involved/green-chapter\n",
      "Scraping: https://sustainability.umd.edu/campus/waste/campus-race-zero-waste\n",
      "Scraping: https://sustainability.umd.edu/topics/waste/can-can-mini-bin-program\n",
      "Scraping: https://sustainability.umd.edu/topics/waste/how-sort-recycle-compost-landfill-bins\n",
      "Scraping: https://sustainability.umd.edu/node/97\n",
      "Failed to fetch https://sustainability.umd.edu/node/97: 403 Client Error: Forbidden for url: https://sustainability.umd.edu/node/97\n",
      "Scraping: https://sustainability.umd.edu/progress/carbon-offsets\n",
      "Scraping: https://sustainability.umd.edu/education-and-research/archive-sustainability-teaching-fellows\n",
      "Failed to fetch https://sustainability.umd.edu/education-and-research/archive-sustainability-teaching-fellows: 403 Client Error: Forbidden for url: https://sustainability.umd.edu/education-and-research/archive-sustainability-teaching-fellows\n",
      "Scraping: https://sustainability.umd.edu/topics/transport/idle-free-umd\n",
      "Total for sustainability site: 769\n",
      "Data saved to umd_sustainability_data.json\n",
      "Scraping: https://sustainingprogress.umd.edu/\n",
      "Scraping: https://sustainingprogress.umd.edu/climate-resources\n",
      "Scraping: https://sustainingprogress.umd.edu/partnering-goals/sdg-7\n",
      "Scraping: https://sustainingprogress.umd.edu/celebrating-stories/sustainableumd-news\n",
      "Scraping: https://sustainingprogress.umd.edu/partnering-goals/sdg-2\n",
      "Scraping: https://sustainingprogress.umd.edu/celebrating-stories/sustainability-maryland-today\n",
      "Scraping: https://sustainingprogress.umd.edu/partnering-goals/sdg-13\n",
      "Scraping: https://sustainingprogress.umd.edu/ClimateActionPlan\n",
      "Scraping: https://sustainingprogress.umd.edu/partnering-goals/sdg-10\n",
      "Scraping: https://sustainingprogress.umd.edu/climate-change-resources/climate-emotions\n",
      "Scraping: https://sustainingprogress.umd.edu/partnering-goals/sdg-16\n",
      "Scraping: https://sustainingprogress.umd.edu/measuring-progress/sustainable-water-use\n",
      "Scraping: https://sustainingprogress.umd.edu/partnering-goals/sdg-8\n",
      "Scraping: https://sustainingprogress.umd.edu/partnering-goals/sdg-5\n",
      "Scraping: https://sustainingprogress.umd.edu/celebrating-stories\n",
      "Scraping: https://sustainingprogress.umd.edu/node/129\n",
      "Scraping: https://sustainingprogress.umd.edu/climate-research\n",
      "Scraping: https://sustainingprogress.umd.edu/partnering-goals/sdg-3\n",
      "Scraping: https://sustainingprogress.umd.edu/partnering-goals/sdg-14\n",
      "Scraping: https://sustainingprogress.umd.edu/partnering-goals/sdg-11\n",
      "Scraping: https://sustainingprogress.umd.edu/partnering-goals/sdg-9\n",
      "Scraping: https://sustainingprogress.umd.edu/measuring-progress/local-and-global-impact\n",
      "Scraping: https://sustainingprogress.umd.edu/progress-commitments/sustainability-council-goals\n",
      "Scraping: https://sustainingprogress.umd.edu/progress-commitments/climate-action-plan\n",
      "Scraping: https://sustainingprogress.umd.edu/partnering-goals\n",
      "Scraping: https://sustainingprogress.umd.edu/measuring-progress/carbon-footprint\n",
      "Scraping: https://sustainingprogress.umd.edu/climate-change-resources/climate-justice\n",
      "Scraping: https://sustainingprogress.umd.edu/measuring-progress/education-sustainability\n",
      "Scraping: https://sustainingprogress.umd.edu/guiding-commitments/climate-action-plan/resilience-changing-climate\n",
      "Scraping: https://sustainingprogress.umd.edu/progress-commitments\n",
      "Scraping: https://sustainingprogress.umd.edu/carbon-offset-projects\n",
      "Scraping: https://sustainingprogress.umd.edu/celebrating-stories/other-resources-sustainability-umd\n",
      "Scraping: https://sustainingprogress.umd.edu/partnering-goals/sdg-15\n",
      "Scraping: https://sustainingprogress.umd.edu/partnering-goals/sdg-12\n",
      "Scraping: https://sustainingprogress.umd.edu/partnering-goals/sdg-6\n",
      "Scraping: https://sustainingprogress.umd.edu/carbon-offset-program\n",
      "Scraping: https://sustainingprogress.umd.edu/umd-carbon-offsets-projects\n",
      "Scraping: https://sustainingprogress.umd.edu/partnering-goals/sdg-1\n",
      "Scraping: https://sustainingprogress.umd.edu/measuring-progress/waste-minimization\n",
      "Scraping: https://sustainingprogress.umd.edu/celebrating-stories/umds-journey-curbing-waste\n",
      "Scraping: https://sustainingprogress.umd.edu/directory/adrienne-small\n",
      "Scraping: https://sustainingprogress.umd.edu/partnering-goals/sdg-17\n",
      "Scraping: https://sustainingprogress.umd.edu/partnering-goals/sdg-4\n",
      "Scraping: https://sustainingprogress.umd.edu/measuring-progress/tableau-instructions\n",
      "Scraping: https://sustainingprogress.umd.edu/measuring-progress\n",
      "Scraping: https://sustainingprogress.umd.edu/measuring-progress/smart-growth\n",
      "Scraping: https://sustainingprogress.umd.edu/measuring-progress/carbon-neutrality\n",
      "Scraping: https://sustainingprogress.umd.edu/celebrating-stories/terp-terp-campus-reuse-store\n",
      "Scraping: https://sustainingprogress.umd.edu/directory/emily-hightower\n",
      "Scraping: https://sustainingprogress.umd.edu/climate-justice\n",
      "Scraping: https://sustainingprogress.umd.edu/10-years-sustainable-food\n",
      "Scraping: https://sustainingprogress.umd.edu/node/130\n",
      "Scraping: https://sustainingprogress.umd.edu/celebrating-stories/funding-future-2022-23\n",
      "Scraping: https://sustainingprogress.umd.edu/directory/rose-rodriguez\n",
      "Scraping: https://sustainingprogress.umd.edu/celebrating-stories/green-chapter-dumpster-painting\n",
      "Scraping: https://sustainingprogress.umd.edu/celebrating-stories/getting-greener-sustainability-fund-updates-fall-2022\n",
      "Scraping: https://sustainingprogress.umd.edu/celebrating-stories/earthfest-fun-mckeldin-mall\n",
      "Scraping: https://sustainingprogress.umd.edu/celebrating-stories/staff-faculty-win-flowers-discuss-sustainability-badge\n",
      "Scraping: https://sustainingprogress.umd.edu/directory/taylor-brinks\n",
      "Scraping: https://sustainingprogress.umd.edu/celebrating-stories/sustainability-career-panel-connects-students-and-alumni\n",
      "Scraping: https://sustainingprogress.umd.edu/directory/michelle-wang\n",
      "Scraping: https://sustainingprogress.umd.edu/celebrating-stories/pedaling-for-sustainability\n",
      "Scraping: https://sustainingprogress.umd.edu/directory/savannah-holt\n",
      "Scraping: https://sustainingprogress.umd.edu/celebrating-stories/plant-giveaway-and-pot-painting-farmers-market\n",
      "Scraping: https://sustainingprogress.umd.edu/measuring-campus-forest-carbon\n",
      "Scraping: https://sustainingprogress.umd.edu/celebrating-stories/first-look-fair-excitement-and-engagement\n",
      "Scraping: https://sustainingprogress.umd.edu/celebrating-stories/engineering-reduced-waste-future-terrapin-works-and-enes100-sustainable-strides\n",
      "Scraping: https://sustainingprogress.umd.edu/directory/nicole-pilsbury\n",
      "Scraping: https://sustainingprogress.umd.edu/celebrating-stories/earthfest-2025-highlights\n",
      "Scraping: https://sustainingprogress.umd.edu/celebrating-stories/campus-sustainability-month-celebration-festivities\n",
      "Scraping: https://sustainingprogress.umd.edu/celebrating-stories/tiny-bugs-big-impact\n",
      "Scraping: https://sustainingprogress.umd.edu/directory/clare-gallagher\n",
      "Scraping: https://sustainingprogress.umd.edu/celebrating-stories/celebrating-culture-and-sustainability-heritage-community-fashion-show\n",
      "Scraping: https://sustainingprogress.umd.edu/celebrating-stories/umd-community-collaborates-compete-bioblitz\n",
      "Scraping: https://sustainingprogress.umd.edu/celebrating-stories/campus-celebrates-bike-week\n",
      "Scraping: https://sustainingprogress.umd.edu/celebrating-stories/six-sustainability-stories-terps-who-changed-umd\n",
      "Scraping: https://sustainingprogress.umd.edu/directory/taylor-brinks-nicole-pilsbury\n",
      "Scraping: https://sustainingprogress.umd.edu/celebrating-stories/community-members-experience-campus-life-maryland-day\n",
      "Scraping: https://sustainingprogress.umd.edu/celebrating-stories/office-sustainability-takes-holiday-market\n",
      "Scraping: https://sustainingprogress.umd.edu/celebrating-stories/staff-enjoy-coffee-and-explore-sustainability-programs\n",
      "Scraping: https://sustainingprogress.umd.edu/celebrating-stories/testing-waste-sorting-knowledge-farmers-market\n",
      "Scraping: https://sustainingprogress.umd.edu/celebrating-stories/more-just-golf-course-restoring-umds-golf-course-educational-biodiversity\n",
      "Scraping: https://sustainingprogress.umd.edu/celebrating-stories/celebrating-decades-progress-campus-sustainability-month\n",
      "Scraping: https://sustainingprogress.umd.edu/celebrating-stories/office-sustainability-tables-terp-terp-open-shop\n",
      "Scraping: https://sustainingprogress.umd.edu/celebrating-stories/growing-gardens-grants\n",
      "Scraping: https://sustainingprogress.umd.edu/building-future\n",
      "Scraping: https://sustainingprogress.umd.edu/views-campus-creek\n",
      "Scraping: https://sustainingprogress.umd.edu/celebrating-stories/sustainable-practices-farmers-market\n",
      "Scraping: https://sustainingprogress.umd.edu/celebrating-stories/informative-sustainability-career-panel-held\n",
      "Scraping: https://sustainingprogress.umd.edu/2020-2021-year-in-review\n",
      "Scraping: https://sustainingprogress.umd.edu/celebrating-stories/students-experience-earthfest-festivities\n",
      "Scraping: https://sustainingprogress.umd.edu/celebrating-stories/maryland-day-highlights-sustainable-activities-hosted-office-sustainability\n",
      "Scraping: https://sustainingprogress.umd.edu/celebrating-stories/2018-student-concern-environment-has-increased\n",
      "Scraping: https://sustainingprogress.umd.edu/directory/dyani-frye\n",
      "Scraping: https://sustainingprogress.umd.edu/celebrating-stories/office-sustainability-participates-parking-day\n",
      "Scraping: https://sustainingprogress.umd.edu/node/143\n",
      "Scraping: https://sustainingprogress.umd.edu/node/204\n",
      "Scraping: https://sustainingprogress.umd.edu/climate-action-plan-30-acknowledgements\n",
      "Scraping: https://sustainingprogress.umd.edu/highlights-each-umd-cap\n",
      "Scraping: https://sustainingprogress.umd.edu/progress-commitments/climate-action-plan/\n",
      "Scraping: https://sustainingprogress.umd.edu/guiding-commitments/climate-action-plan/climate-emotions\n",
      "Scraping: https://sustainingprogress.umd.edu/node/181\n",
      "Scraping: https://sustainingprogress.umd.edu/resilience-changing-climate\n",
      "Scraping: https://sustainingprogress.umd.edu/guiding-commitments/climate-action-plan/climate-justice\n",
      "Scraping: https://sustainingprogress.umd.edu/node/180\n",
      "Scraping: https://sustainingprogress.umd.edu/take-action-now\n",
      "Scraping: https://sustainingprogress.umd.edu/keeping-our-climate-pledge\n",
      "Total for sustainingprogress site: 821\n",
      "Data saved to umd_sustainingprogress_data.json\n"
     ]
    }
   ],
   "source": [
    "data_count = 0\n",
    "\n",
    "for site in sites:\n",
    "  scraper = umd_webscraper.UMDWebScraper(site)\n",
    "  scraper.scrape(site)\n",
    "\n",
    "  site_name = get_site_name(site)\n",
    "  print(f\"Total for {site_name} site: {len(scraper.data)}\")\n",
    "  data_count += len(scraper.data)\n",
    "  scraper.save_data(f\"datafiles/umd_{site_name}_data.json\")"
   ]
  },
  {
   "cell_type": "code",
   "execution_count": 19,
   "id": "fc2ba1b8",
   "metadata": {},
   "outputs": [
    {
     "name": "stdout",
     "output_type": "stream",
     "text": [
      "Welcome to the Office of Sustainability's web portal for reporting UMD's measurable steps toward achieving campus sustainability goals. This portal also makes connections between UMD's campus-based progress and support for global sustainable development. Explore campus data \n",
      "Site Title: SustainableUMD Progress Hub | Office of Sustainability\n",
      "Header: SustainableUMD ProgressHub\n",
      "Link: https://sustainingprogress.umd.edu/\n"
     ]
    }
   ],
   "source": [
    "print(scraper.data[0]['Content'])"
   ]
  },
  {
   "cell_type": "code",
   "execution_count": 14,
   "id": "68a8f016",
   "metadata": {},
   "outputs": [
    {
     "data": {
      "text/plain": [
       "1590"
      ]
     },
     "execution_count": 14,
     "metadata": {},
     "output_type": "execute_result"
    }
   ],
   "source": [
    "data_count"
   ]
  },
  {
   "cell_type": "markdown",
   "id": "843664b3",
   "metadata": {},
   "source": [
    "### Embedding into vector storage ###"
   ]
  },
  {
   "cell_type": "code",
   "execution_count": 6,
   "id": "a66914b7",
   "metadata": {},
   "outputs": [
    {
     "name": "stdout",
     "output_type": "stream",
     "text": [
      "Index exists already\n"
     ]
    }
   ],
   "source": [
    "vector_db = pineconing.VectorDB()"
   ]
  },
  {
   "cell_type": "code",
   "execution_count": 25,
   "id": "eebff45a",
   "metadata": {},
   "outputs": [
    {
     "data": {
      "text/plain": [
       "{'dimension': 768,\n",
       " 'index_fullness': 0.0,\n",
       " 'metric': 'cosine',\n",
       " 'namespaces': {'file_data': {'vector_count': 1590},\n",
       "                'own_data': {'vector_count': 1}},\n",
       " 'total_vector_count': 1591,\n",
       " 'vector_type': 'dense'}"
      ]
     },
     "execution_count": 25,
     "metadata": {},
     "output_type": "execute_result"
    }
   ],
   "source": [
    "vector_db.index.describe_index_stats()"
   ]
  },
  {
   "cell_type": "markdown",
   "id": "802dbaa6",
   "metadata": {},
   "source": [
    "Loading embedding model:\n",
    "\n",
    "- SentenceTransformer (all-MiniLM-L6-v2)\n",
    "- GoogleGenerativeAIEmbeddings (models/embedding-001)"
   ]
  },
  {
   "cell_type": "code",
   "execution_count": 8,
   "id": "e2092748",
   "metadata": {},
   "outputs": [],
   "source": [
    "embedding_model = GoogleGenerativeAIEmbeddings(model='models/embedding-001')"
   ]
  },
  {
   "cell_type": "markdown",
   "id": "0768961f",
   "metadata": {},
   "source": [
    "#### Adding Data ####\n",
    "We only need to do this once"
   ]
  },
  {
   "cell_type": "markdown",
   "id": "df7455aa",
   "metadata": {},
   "source": [
    "By files"
   ]
  },
  {
   "cell_type": "code",
   "execution_count": 24,
   "id": "406f7f35",
   "metadata": {},
   "outputs": [
    {
     "name": "stdout",
     "output_type": "stream",
     "text": [
      "Embedding everything from sustainability data\n",
      "Embedding everything from sustainingprogress data\n",
      "Upserting batch 0\n",
      "Upserting batch 1\n",
      "Upserting batch 2\n",
      "Upserting batch 3\n",
      "Upserting batch 4\n",
      "Upserting batch 5\n",
      "Upserting batch 6\n",
      "Upserting batch 7\n"
     ]
    }
   ],
   "source": [
    "files = [\"datafiles/umd_sustainability_data.json\",\n",
    "         \"datafiles/umd_sustainingprogress_data.json\"]\n",
    "\n",
    "vector_db.upsert_files(files)"
   ]
  },
  {
   "cell_type": "markdown",
   "id": "11930e9d",
   "metadata": {},
   "source": [
    "By own data"
   ]
  },
  {
   "cell_type": "code",
   "execution_count": 8,
   "id": "5b7d8779",
   "metadata": {},
   "outputs": [],
   "source": [
    "our_data = \"The shortened link for the water refilling stations website is https://ter.ps/heartthetap\"\n",
    "vector_db.upsert_own_data(our_data)"
   ]
  },
  {
   "cell_type": "markdown",
   "id": "7aafeea3",
   "metadata": {},
   "source": [
    "Delete File data"
   ]
  },
  {
   "cell_type": "code",
   "execution_count": 22,
   "id": "6406a2c3",
   "metadata": {},
   "outputs": [
    {
     "data": {
      "text/plain": [
       "{}"
      ]
     },
     "execution_count": 22,
     "metadata": {},
     "output_type": "execute_result"
    }
   ],
   "source": [
    "vector_db.index.delete(delete_all=True, namespace='file_data')"
   ]
  },
  {
   "cell_type": "markdown",
   "id": "77548ba2",
   "metadata": {},
   "source": [
    "Delete own data and reset count"
   ]
  },
  {
   "cell_type": "code",
   "execution_count": 18,
   "id": "875b1a8a",
   "metadata": {},
   "outputs": [],
   "source": [
    "vector_db.index.delete(delete_all=True, namespace='own_data')\n",
    "with open(\"datafiles/own_data_id_count.txt\", 'r+') as file:\n",
    "    file.seek(0)\n",
    "    file.write('0')"
   ]
  },
  {
   "cell_type": "markdown",
   "id": "92ebd4bf",
   "metadata": {},
   "source": [
    "### Retrieving and Generating (RAG) with langchain/langsmith tracing ###"
   ]
  },
  {
   "cell_type": "code",
   "execution_count": 16,
   "id": "d9c84cd2",
   "metadata": {},
   "outputs": [
    {
     "data": {
      "text/plain": [
       "True"
      ]
     },
     "execution_count": 16,
     "metadata": {},
     "output_type": "execute_result"
    }
   ],
   "source": [
    "utils.tracing_is_enabled()"
   ]
  },
  {
   "cell_type": "markdown",
   "id": "1b3bea20",
   "metadata": {},
   "source": [
    "### Using langchain google generative ai ###"
   ]
  },
  {
   "cell_type": "code",
   "execution_count": 10,
   "id": "a2df1403",
   "metadata": {},
   "outputs": [],
   "source": [
    "google_model = \"gemini-2.0-flash-lite\"\n",
    "llm = ChatGoogleGenerativeAI(model=google_model)\n",
    "\n",
    "rag = umd_rag.UMDRAG(vector_db, llm)"
   ]
  },
  {
   "cell_type": "code",
   "execution_count": 12,
   "id": "6cdf0da9",
   "metadata": {},
   "outputs": [
    {
     "data": {
      "text/plain": [
       "[{\n",
       "     \"namespace\": \"file_data\",\n",
       "     \"score\": 0.77050668,\n",
       "     \"id\": \"sustainability_119\",\n",
       "     \"values\": [],\n",
       "     \"metadata\": {\n",
       "         \"Content\": \"Campus programs you can take part in University initiatives to address sustainability in these areas UMD's key goals, achievements, and commitments \",\n",
       "         \"Header\": \"Explore Sustainability Topics\",\n",
       "         \"Link\": \"https://sustainability.umd.edu/topics\",\n",
       "         \"Site_Title\": \"Sustainability Impact Areas | SustainableUMD\"\n",
       "     }\n",
       " },\n",
       " {\n",
       "     \"namespace\": \"file_data\",\n",
       "     \"score\": 0.770001054,\n",
       "     \"id\": \"sustainingprogress_220\",\n",
       "     \"values\": [],\n",
       "     \"metadata\": {\n",
       "         \"Content\": \"All Schools and Colleges at UMD include academic and research opportunities relating to sustainability. Staff and administrative teams throughout the university incorporate sustainability into the university operations. We're committed to addressing the grand challenges of climate change and sustainability. The SustainableUMD Network connects students, staff, faculty, and other community members to sustainability-related opportunities at UMD. This section curates a collection of resources -- reports, articles, newsletters, social media accounts, and other resources -- created by many sustainability-affiliated units across campus. \",\n",
       "         \"Header\": \"\",\n",
       "         \"Link\": \"https://sustainingprogress.umd.edu/celebrating-stories\",\n",
       "         \"Site_Title\": \"Celebrating Stories | Office of Sustainability\"\n",
       "     }\n",
       " },\n",
       " {\n",
       "     \"namespace\": \"file_data\",\n",
       "     \"score\": 0.76315552,\n",
       "     \"id\": \"sustainingprogress_619\",\n",
       "     \"values\": [],\n",
       "     \"metadata\": {\n",
       "         \"Content\": \"Each of the sections below provides an interactive summary that gives an example of UMD\\u2019s progress towards sustainability on campus and beyond. \",\n",
       "         \"Header\": \"\",\n",
       "         \"Link\": \"https://sustainingprogress.umd.edu/2020-2021-year-in-review\",\n",
       "         \"Site_Title\": \"Feature Story: A Year in Review (2020-2021) | Office of Sustainability\"\n",
       "     }\n",
       " },\n",
       " {\n",
       "     \"namespace\": \"file_data\",\n",
       "     \"score\": 0.756721854,\n",
       "     \"id\": \"sustainingprogress_217\",\n",
       "     \"values\": [],\n",
       "     \"metadata\": {\n",
       "         \"Content\": \"UMD IS INTEGRATING SUSTAINABILITY INTO CAMPUS CULTURE, ACADEMICS, RESEARCH, & OPERATIONS. \",\n",
       "         \"Header\": \"Other Resources: Campus Leaders in Sustainability\",\n",
       "         \"Link\": \"https://sustainingprogress.umd.edu/celebrating-stories\",\n",
       "         \"Site_Title\": \"Celebrating Stories | Office of Sustainability\"\n",
       "     }\n",
       " },\n",
       " {\n",
       "     \"namespace\": \"file_data\",\n",
       "     \"score\": 0.753802061,\n",
       "     \"id\": \"sustainingprogress_154\",\n",
       "     \"values\": [],\n",
       "     \"metadata\": {\n",
       "         \"Content\": \"TheGreen Office,Green TerpandGreen Chapterprograms were developed and facilitated by the Office of Sustainability in order to give students, faculty and staff support, training, and certification for adopting sustainable practices in daily life.UMD's Arboretumorganizes litter clean ups across campus, and are always looking for volunteers.UMD Facilities Managementcontinually works to improve the waste collection system, and even conducts waste audits to better understand how much of our waste could have been recycled or composted.Student Groups such as the SGA Sustainability Committees, Sustainable Oceans Alliance, MaryPIRG, and more have advocated for these and more sustainable practices on our campus, and they continue to encourage students and administration alike to push progress forward.\",\n",
       "         \"Header\": \"More:\",\n",
       "         \"Link\": \"https://sustainingprogress.umd.edu/celebrating-stories/umds-journey-curbing-waste\",\n",
       "         \"Site_Title\": \"UMD's Journey to Curbing Waste | Office of Sustainability\"\n",
       "     }\n",
       " },\n",
       " {\n",
       "     \"namespace\": \"file_data\",\n",
       "     \"score\": 0.752723,\n",
       "     \"id\": \"sustainability_74\",\n",
       "     \"values\": [],\n",
       "     \"metadata\": {\n",
       "         \"Content\": \"Addressing sustainability is essential because healthy water, healthy air, and healthy ecosystems are foundational to a thriving society.  Higher education institutions, such as the University of Maryland, are in a unique position to advance sustainability solutions, awareness, and action. Over 50,000 students, faculty and staff live, work, research and study on campus each day. From energy and water use to transportation and food services, UMD has continual opportunities to cultivate a culture of sustainability while conducting critical research that guides sustainability policy and innovation here and around the world. UMD strives to empower students, faculty and staff to take sustainable steps by bringing local and global systems into balance, redesigning processes to conserve resources, and experimenting with novel sustainable practices. We recognize the power of higher education to influence broader change, empower youth with skills and understanding, and integrate change by serving as an immersive learning lab for education, research, experience and civic engagement. UMD aims to serve as an example for society to facilitate the crucial cultural, functional, and technological transitions to a world that supports everyone. The Office of Sustainability compiles and communicates sustainability efforts from across campus and supports the SustainableUMD network. SustainableUMD refers to the campus-wide commitment to environmental responsibility.  Every person contributes to UMD's impacts and every aspect of campus affects the university's sustainability performance. Regardless of where on campus one works, studies, or lives, each person can help advance sustainability. By integrating academics, research, operations, and student engagement, the campus community can model and leverage broader change. Within the campus, UMD is innovating sustainable solutions, immersing students in a healthy and inspiring environment, and modeling a demonstration for more green communities. \",\n",
       "         \"Header\": \"SustainableUMD\",\n",
       "         \"Link\": \"https://sustainability.umd.edu/about\",\n",
       "         \"Site_Title\": \"About | SustainableUMD\"\n",
       "     }\n",
       " },\n",
       " {\n",
       "     \"namespace\": \"file_data\",\n",
       "     \"score\": 0.749276459,\n",
       "     \"id\": \"sustainability_171\",\n",
       "     \"values\": [],\n",
       "     \"metadata\": {\n",
       "         \"Content\": \"Opportunities are endless to incorporate sustainability into research and learning. From degree programs to research projects to living-learning programs, students and faculty learn, enhance, and find support for addressing sustainability issues. By utilizing the campus as a living lab, our campus community develops leadership, innovation, and sustainability solutions to address theGrand Challengesof our time \\u2014 ranging from climate change to hunger to clean water shortages. The University of Maryland offers students hands-on opportunities to develop the skills to solve sustainability dilemmas, alongside the visionary faculty who champion environmental progress.  \",\n",
       "         \"Header\": \"Innovations for Sustainable Solutions\",\n",
       "         \"Link\": \"https://sustainability.umd.edu/sustainability-education-research\",\n",
       "         \"Site_Title\": \"Sustainability Education & Research | SustainableUMD\"\n",
       "     }\n",
       " },\n",
       " {\n",
       "     \"namespace\": \"file_data\",\n",
       "     \"score\": 0.748432279,\n",
       "     \"id\": \"sustainingprogress_75\",\n",
       "     \"values\": [],\n",
       "     \"metadata\": {\n",
       "         \"Content\": \"Beyond internally set goals and climate strategies, UMD's operational programs to support sustainability are guided by an array of voluntary commitments and regulatory requirements. UMD aims to foster a culture of sustainability and act as a leader in voluntary and regulated environmental stewardship by going above and beyond the call of action. Explore other commitments and regulations that help UMD become more sustainable. \",\n",
       "         \"Header\": \"Other Commitments\",\n",
       "         \"Link\": \"https://sustainingprogress.umd.edu/progress-commitments\",\n",
       "         \"Site_Title\": \"Sustainability Goals & Commitments | Office of Sustainability\"\n",
       "     }\n",
       " },\n",
       " {\n",
       "     \"namespace\": \"file_data\",\n",
       "     \"score\": 0.747681081,\n",
       "     \"id\": \"sustainability_108\",\n",
       "     \"values\": [],\n",
       "     \"metadata\": {\n",
       "         \"Content\": \"Beyond internally set goals and climate strategies, UMD's operational programs to support sustainability are guided by an array of voluntary commitments and regulatory requirements. UMD aims to foster a culture of sustainability and act as a leader in environmental stewardship by going above and beyond the call of action.Coming Soon\",\n",
       "         \"Header\": \"\",\n",
       "         \"Link\": \"https://sustainability.umd.edu/progress-commitments/other-commitments\",\n",
       "         \"Site_Title\": \"Our Commitments | SustainableUMD\"\n",
       "     }\n",
       " },\n",
       " {\n",
       "     \"namespace\": \"file_data\",\n",
       "     \"score\": 0.746988058,\n",
       "     \"id\": \"sustainingprogress_553\",\n",
       "     \"values\": [],\n",
       "     \"metadata\": {\n",
       "         \"Content\": \"Overall, the results of the survey indicate that students are concerned about major environmental issues that our society faces and feel that the university should continue to advance efforts to address these issues. It also highlights personal versus institutional responsibility to sustainability.  Understanding more about how students relate to sustainability, their personal values, and their lifestyle choices is essential in shaping outreach, education, and opportunities that align with their values and priorities. By continually fostering a campus culture that prioritizes sustainability, UMD enhances student engagement and empowers student leaders to advocate for innovative solutions to the pressing challenges of climate change.  \",\n",
       "         \"Header\": \"\",\n",
       "         \"Link\": \"https://sustainingprogress.umd.edu/celebrating-stories/2018-student-concern-environment-has-increased\",\n",
       "         \"Site_Title\": \"Since 2018, Student Concern for the Environment has Increased | Office of Sustainability\"\n",
       "     }\n",
       " }]"
      ]
     },
     "execution_count": 12,
     "metadata": {},
     "output_type": "execute_result"
    }
   ],
   "source": [
    "piped = rag.pipe(\"What are some of the challenges of sustainability at UMD?\", include_metadata=True)\n",
    "piped['metadata']"
   ]
  },
  {
   "cell_type": "code",
   "execution_count": 35,
   "id": "c11d2e0f",
   "metadata": {},
   "outputs": [
    {
     "name": "stdout",
     "output_type": "stream",
     "text": [
      "Top 3 retrieved documents:\n",
      "1. sustainability_119\n",
      "- Text: Campus programs you can take part in University initiatives to address sustainability in these areas UMD's key goals, achievements, and commitments \n",
      "- Link: https://sustainability.umd.edu/topics\n",
      "- Score: 0.77050668\n",
      "\n",
      "2. sustainingprogress_220\n",
      "- Text: All Schools and Colleges at UMD include academic and research opportunities relating to sustainability. Staff and administrative teams throughout the university incorporate sustainability into the university operations. We're committed to addressing the grand challenges of climate change and sustainability. The SustainableUMD Network connects students, staff, faculty, and other community members to sustainability-related opportunities at UMD. This section curates a collection of resources -- reports, articles, newsletters, social media accounts, and other resources -- created by many sustainability-affiliated units across campus. \n",
      "- Link: https://sustainingprogress.umd.edu/celebrating-stories\n",
      "- Score: 0.770001054\n",
      "\n",
      "3. sustainingprogress_619\n",
      "- Text: Each of the sections below provides an interactive summary that gives an example of UMD’s progress towards sustainability on campus and beyond. \n",
      "- Link: https://sustainingprogress.umd.edu/2020-2021-year-in-review\n",
      "- Score: 0.76315552\n",
      "\n",
      "\n"
     ]
    }
   ],
   "source": [
    "a = my_utils.organize_retrieval(meta)\n",
    "print(a)"
   ]
  },
  {
   "cell_type": "code",
   "execution_count": null,
   "id": "b49723d8",
   "metadata": {},
   "outputs": [],
   "source": []
  }
 ],
 "metadata": {
  "kernelspec": {
   "display_name": "venv",
   "language": "python",
   "name": "python3"
  },
  "language_info": {
   "codemirror_mode": {
    "name": "ipython",
    "version": 3
   },
   "file_extension": ".py",
   "mimetype": "text/x-python",
   "name": "python",
   "nbconvert_exporter": "python",
   "pygments_lexer": "ipython3",
   "version": "3.12.10"
  }
 },
 "nbformat": 4,
 "nbformat_minor": 5
}
