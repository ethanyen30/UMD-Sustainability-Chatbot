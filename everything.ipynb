{
 "cells": [
  {
   "cell_type": "code",
   "execution_count": 29,
   "id": "283e723b",
   "metadata": {},
   "outputs": [],
   "source": [
    "from langsmith import traceable, utils\n",
    "from langchain_google_genai import ChatGoogleGenerativeAI, GoogleGenerativeAIEmbeddings\n",
    "from dotenv import load_dotenv\n",
    "import re\n",
    "import umd_rag\n",
    "import pineconing\n",
    "import umd_webscraper\n",
    "import my_utils\n",
    "\n",
    "import importlib"
   ]
  },
  {
   "cell_type": "code",
   "execution_count": 34,
   "id": "9eec7177",
   "metadata": {},
   "outputs": [
    {
     "data": {
      "text/plain": [
       "<module 'my_utils' from 'c:\\\\Users\\\\ethan\\\\Desktop\\\\umd\\\\s4 spring 2025\\\\HDCC209B\\\\UMD-Sustainability-Chatbot\\\\my_utils.py'>"
      ]
     },
     "execution_count": 34,
     "metadata": {},
     "output_type": "execute_result"
    }
   ],
   "source": [
    "importlib.reload(umd_rag)\n",
    "importlib.reload(pineconing)\n",
    "importlib.reload(umd_webscraper)\n",
    "importlib.reload(my_utils)"
   ]
  },
  {
   "cell_type": "markdown",
   "id": "caa620b9",
   "metadata": {},
   "source": [
    "Load environment variables from .env"
   ]
  },
  {
   "cell_type": "code",
   "execution_count": 2,
   "id": "ad2f134a",
   "metadata": {},
   "outputs": [
    {
     "data": {
      "text/plain": [
       "True"
      ]
     },
     "execution_count": 2,
     "metadata": {},
     "output_type": "execute_result"
    }
   ],
   "source": [
    "load_dotenv(override=True)"
   ]
  },
  {
   "cell_type": "markdown",
   "id": "c693773e",
   "metadata": {},
   "source": [
    "#### Web Scraping ####"
   ]
  },
  {
   "cell_type": "code",
   "execution_count": 3,
   "id": "2a57b573",
   "metadata": {},
   "outputs": [],
   "source": [
    "sites = [\"https://sustainability.umd.edu/\",\n",
    "         \"https://sustainingprogress.umd.edu/\"]"
   ]
  },
  {
   "cell_type": "code",
   "execution_count": 4,
   "id": "5114b31a",
   "metadata": {},
   "outputs": [],
   "source": [
    "def get_site_name(site):\n",
    "  site_re = re.compile(r'^https://([A-Za-z0-9]*).umd.edu/$')\n",
    "\n",
    "  matched = re.match(site_re, site)\n",
    "  if matched:\n",
    "    return matched.group(1)\n",
    "  else:\n",
    "    raise Exception(\"Not good site name (not umd)\")"
   ]
  },
  {
   "cell_type": "markdown",
   "id": "f77b6b42",
   "metadata": {},
   "source": [
    "Scrape all sites"
   ]
  },
  {
   "cell_type": "code",
   "execution_count": null,
   "id": "087d2602",
   "metadata": {},
   "outputs": [],
   "source": [
    "data_count = 0\n",
    "\n",
    "for site in sites:\n",
    "  scraper = umd_webscraper.UMDWebScraper(site)\n",
    "  scraper.scrape(site)\n",
    "\n",
    "  site_name = get_site_name(site)\n",
    "  print(f\"Total for {site_name} site: {len(scraper.data)}\")\n",
    "  data_count += len(scraper.data)\n",
    "  scraper.save_data(f\"umd_{site_name}_data.json\")"
   ]
  },
  {
   "cell_type": "code",
   "execution_count": null,
   "id": "68a8f016",
   "metadata": {},
   "outputs": [],
   "source": [
    "data_count"
   ]
  },
  {
   "cell_type": "markdown",
   "id": "843664b3",
   "metadata": {},
   "source": [
    "### Embedding into vector storage ###"
   ]
  },
  {
   "cell_type": "code",
   "execution_count": 13,
   "id": "a66914b7",
   "metadata": {},
   "outputs": [
    {
     "name": "stdout",
     "output_type": "stream",
     "text": [
      "Index exists already\n"
     ]
    }
   ],
   "source": [
    "vector_db = pineconing.VectorDB()"
   ]
  },
  {
   "cell_type": "code",
   "execution_count": 14,
   "id": "eebff45a",
   "metadata": {},
   "outputs": [
    {
     "data": {
      "text/plain": [
       "{'dimension': 768,\n",
       " 'index_fullness': 0.0,\n",
       " 'metric': 'cosine',\n",
       " 'namespaces': {'file_data': {'vector_count': 1620}},\n",
       " 'total_vector_count': 1620,\n",
       " 'vector_type': 'dense'}"
      ]
     },
     "execution_count": 14,
     "metadata": {},
     "output_type": "execute_result"
    }
   ],
   "source": [
    "vector_db.index.describe_index_stats()"
   ]
  },
  {
   "cell_type": "markdown",
   "id": "802dbaa6",
   "metadata": {},
   "source": [
    "Loading embedding model:\n",
    "\n",
    "- SentenceTransformer (all-MiniLM-L6-v2)\n",
    "- GoogleGenerativeAIEmbeddings (models/embedding-001)"
   ]
  },
  {
   "cell_type": "code",
   "execution_count": 5,
   "id": "e2092748",
   "metadata": {},
   "outputs": [],
   "source": [
    "embedding_model = GoogleGenerativeAIEmbeddings(model='models/embedding-001')"
   ]
  },
  {
   "cell_type": "markdown",
   "id": "0768961f",
   "metadata": {},
   "source": [
    "#### Adding Data ####\n",
    "We only need to do this once"
   ]
  },
  {
   "cell_type": "markdown",
   "id": "df7455aa",
   "metadata": {},
   "source": [
    "By files"
   ]
  },
  {
   "cell_type": "code",
   "execution_count": null,
   "id": "406f7f35",
   "metadata": {},
   "outputs": [],
   "source": [
    "files = [\"datafiles/umd_sustainability_data.json\",\n",
    "         \"datafiles/umd_sustainingprogress_data.json\"]\n",
    "\n",
    "vector_db.upsert_files(files)"
   ]
  },
  {
   "cell_type": "markdown",
   "id": "11930e9d",
   "metadata": {},
   "source": [
    "By own data"
   ]
  },
  {
   "cell_type": "code",
   "execution_count": 15,
   "id": "5b7d8779",
   "metadata": {},
   "outputs": [],
   "source": [
    "our_data = \"The shortened link for our water refilling stations is ter.ps/heartthetap\"\n",
    "vector_db.upsert_own_data(our_data)"
   ]
  },
  {
   "cell_type": "markdown",
   "id": "92ebd4bf",
   "metadata": {},
   "source": [
    "### Retrieving and Generating (RAG) with langchain/langsmith tracing ###"
   ]
  },
  {
   "cell_type": "code",
   "execution_count": 16,
   "id": "d9c84cd2",
   "metadata": {},
   "outputs": [
    {
     "data": {
      "text/plain": [
       "True"
      ]
     },
     "execution_count": 16,
     "metadata": {},
     "output_type": "execute_result"
    }
   ],
   "source": [
    "utils.tracing_is_enabled()"
   ]
  },
  {
   "cell_type": "markdown",
   "id": "1b3bea20",
   "metadata": {},
   "source": [
    "### Using langchain google generative ai ###"
   ]
  },
  {
   "cell_type": "code",
   "execution_count": 21,
   "id": "a2df1403",
   "metadata": {},
   "outputs": [],
   "source": [
    "google_model = \"gemini-2.0-flash-lite\"\n",
    "llm = ChatGoogleGenerativeAI(model=google_model)\n",
    "\n",
    "rag = umd_rag.UMDRAG(vector_db, llm)"
   ]
  },
  {
   "cell_type": "code",
   "execution_count": 26,
   "id": "6cdf0da9",
   "metadata": {},
   "outputs": [
    {
     "name": "stdout",
     "output_type": "stream",
     "text": [
      "AI:\n",
      "UMD is committed to addressing the grand challenges of climate change and sustainability. The university recognizes that healthy water, air, and ecosystems are foundational to a thriving society. UMD aims to address sustainability issues by utilizing the campus as a living lab to develop leadership, innovation, and sustainability solutions. Students are concerned about major environmental issues and feel that the university should continue to advance efforts to address these issues.\n",
      "\n",
      "Metadata:\n",
      "[{\n",
      "    \"namespace\": \"file_data\",\n",
      "    \"score\": 0.77050668,\n",
      "    \"id\": \"sustainability_119\",\n",
      "    \"values\": [],\n",
      "    \"metadata\": {\n",
      "        \"Content\": \"Campus programs you can take part in University initiatives to address sustainability in these areas UMD's key goals, achievements, and commitments \",\n",
      "        \"Header\": \"Explore Sustainability Topics\",\n",
      "        \"Link\": \"https://sustainability.umd.edu/topics\",\n",
      "        \"Site_Title\": \"Sustainability Impact Areas | SustainableUMD\"\n",
      "    }\n",
      "}, {\n",
      "    \"namespace\": \"file_data\",\n",
      "    \"score\": 0.770001054,\n",
      "    \"id\": \"sustainingprogress_220\",\n",
      "    \"values\": [],\n",
      "    \"metadata\": {\n",
      "        \"Content\": \"All Schools and Colleges at UMD include academic and research opportunities relating to sustainability. Staff and administrative teams throughout the university incorporate sustainability into the university operations. We're committed to addressing the grand challenges of climate change and sustainability. The SustainableUMD Network connects students, staff, faculty, and other community members to sustainability-related opportunities at UMD. This section curates a collection of resources -- reports, articles, newsletters, social media accounts, and other resources -- created by many sustainability-affiliated units across campus. \",\n",
      "        \"Header\": \"\",\n",
      "        \"Link\": \"https://sustainingprogress.umd.edu/celebrating-stories\",\n",
      "        \"Site_Title\": \"Celebrating Stories | Office of Sustainability\"\n",
      "    }\n",
      "}, {\n",
      "    \"namespace\": \"file_data\",\n",
      "    \"score\": 0.76315552,\n",
      "    \"id\": \"sustainingprogress_619\",\n",
      "    \"values\": [],\n",
      "    \"metadata\": {\n",
      "        \"Content\": \"Each of the sections below provides an interactive summary that gives an example of UMD\\u2019s progress towards sustainability on campus and beyond. \",\n",
      "        \"Header\": \"\",\n",
      "        \"Link\": \"https://sustainingprogress.umd.edu/2020-2021-year-in-review\",\n",
      "        \"Site_Title\": \"Feature Story: A Year in Review (2020-2021) | Office of Sustainability\"\n",
      "    }\n",
      "}, {\n",
      "    \"namespace\": \"file_data\",\n",
      "    \"score\": 0.756721854,\n",
      "    \"id\": \"sustainingprogress_217\",\n",
      "    \"values\": [],\n",
      "    \"metadata\": {\n",
      "        \"Content\": \"UMD IS INTEGRATING SUSTAINABILITY INTO CAMPUS CULTURE, ACADEMICS, RESEARCH, & OPERATIONS. \",\n",
      "        \"Header\": \"Other Resources: Campus Leaders in Sustainability\",\n",
      "        \"Link\": \"https://sustainingprogress.umd.edu/celebrating-stories\",\n",
      "        \"Site_Title\": \"Celebrating Stories | Office of Sustainability\"\n",
      "    }\n",
      "}, {\n",
      "    \"namespace\": \"file_data\",\n",
      "    \"score\": 0.753802061,\n",
      "    \"id\": \"sustainingprogress_154\",\n",
      "    \"values\": [],\n",
      "    \"metadata\": {\n",
      "        \"Content\": \"TheGreen Office,Green TerpandGreen Chapterprograms were developed and facilitated by the Office of Sustainability in order to give students, faculty and staff support, training, and certification for adopting sustainable practices in daily life.UMD's Arboretumorganizes litter clean ups across campus, and are always looking for volunteers.UMD Facilities Managementcontinually works to improve the waste collection system, and even conducts waste audits to better understand how much of our waste could have been recycled or composted.Student Groups such as the SGA Sustainability Committees, Sustainable Oceans Alliance, MaryPIRG, and more have advocated for these and more sustainable practices on our campus, and they continue to encourage students and administration alike to push progress forward.\",\n",
      "        \"Header\": \"More:\",\n",
      "        \"Link\": \"https://sustainingprogress.umd.edu/celebrating-stories/umds-journey-curbing-waste\",\n",
      "        \"Site_Title\": \"UMD's Journey to Curbing Waste | Office of Sustainability\"\n",
      "    }\n",
      "}, {\n",
      "    \"namespace\": \"file_data\",\n",
      "    \"score\": 0.752723,\n",
      "    \"id\": \"sustainability_74\",\n",
      "    \"values\": [],\n",
      "    \"metadata\": {\n",
      "        \"Content\": \"Addressing sustainability is essential because healthy water, healthy air, and healthy ecosystems are foundational to a thriving society.  Higher education institutions, such as the University of Maryland, are in a unique position to advance sustainability solutions, awareness, and action. Over 50,000 students, faculty and staff live, work, research and study on campus each day. From energy and water use to transportation and food services, UMD has continual opportunities to cultivate a culture of sustainability while conducting critical research that guides sustainability policy and innovation here and around the world. UMD strives to empower students, faculty and staff to take sustainable steps by bringing local and global systems into balance, redesigning processes to conserve resources, and experimenting with novel sustainable practices. We recognize the power of higher education to influence broader change, empower youth with skills and understanding, and integrate change by serving as an immersive learning lab for education, research, experience and civic engagement. UMD aims to serve as an example for society to facilitate the crucial cultural, functional, and technological transitions to a world that supports everyone. The Office of Sustainability compiles and communicates sustainability efforts from across campus and supports the SustainableUMD network. SustainableUMD refers to the campus-wide commitment to environmental responsibility.  Every person contributes to UMD's impacts and every aspect of campus affects the university's sustainability performance. Regardless of where on campus one works, studies, or lives, each person can help advance sustainability. By integrating academics, research, operations, and student engagement, the campus community can model and leverage broader change. Within the campus, UMD is innovating sustainable solutions, immersing students in a healthy and inspiring environment, and modeling a demonstration for more green communities. \",\n",
      "        \"Header\": \"SustainableUMD\",\n",
      "        \"Link\": \"https://sustainability.umd.edu/about\",\n",
      "        \"Site_Title\": \"About | SustainableUMD\"\n",
      "    }\n",
      "}, {\n",
      "    \"namespace\": \"file_data\",\n",
      "    \"score\": 0.749276459,\n",
      "    \"id\": \"sustainability_171\",\n",
      "    \"values\": [],\n",
      "    \"metadata\": {\n",
      "        \"Content\": \"Opportunities are endless to incorporate sustainability into research and learning. From degree programs to research projects to living-learning programs, students and faculty learn, enhance, and find support for addressing sustainability issues. By utilizing the campus as a living lab, our campus community develops leadership, innovation, and sustainability solutions to address theGrand Challengesof our time \\u2014 ranging from climate change to hunger to clean water shortages. The University of Maryland offers students hands-on opportunities to develop the skills to solve sustainability dilemmas, alongside the visionary faculty who champion environmental progress.  \",\n",
      "        \"Header\": \"Innovations for Sustainable Solutions\",\n",
      "        \"Link\": \"https://sustainability.umd.edu/sustainability-education-research\",\n",
      "        \"Site_Title\": \"Sustainability Education & Research | SustainableUMD\"\n",
      "    }\n",
      "}, {\n",
      "    \"namespace\": \"file_data\",\n",
      "    \"score\": 0.748432279,\n",
      "    \"id\": \"sustainingprogress_75\",\n",
      "    \"values\": [],\n",
      "    \"metadata\": {\n",
      "        \"Content\": \"Beyond internally set goals and climate strategies, UMD's operational programs to support sustainability are guided by an array of voluntary commitments and regulatory requirements. UMD aims to foster a culture of sustainability and act as a leader in voluntary and regulated environmental stewardship by going above and beyond the call of action. Explore other commitments and regulations that help UMD become more sustainable. \",\n",
      "        \"Header\": \"Other Commitments\",\n",
      "        \"Link\": \"https://sustainingprogress.umd.edu/progress-commitments\",\n",
      "        \"Site_Title\": \"Sustainability Goals & Commitments | Office of Sustainability\"\n",
      "    }\n",
      "}, {\n",
      "    \"namespace\": \"file_data\",\n",
      "    \"score\": 0.747681081,\n",
      "    \"id\": \"sustainability_108\",\n",
      "    \"values\": [],\n",
      "    \"metadata\": {\n",
      "        \"Content\": \"Beyond internally set goals and climate strategies, UMD's operational programs to support sustainability are guided by an array of voluntary commitments and regulatory requirements. UMD aims to foster a culture of sustainability and act as a leader in environmental stewardship by going above and beyond the call of action.Coming Soon\",\n",
      "        \"Header\": \"\",\n",
      "        \"Link\": \"https://sustainability.umd.edu/progress-commitments/other-commitments\",\n",
      "        \"Site_Title\": \"Our Commitments | SustainableUMD\"\n",
      "    }\n",
      "}, {\n",
      "    \"namespace\": \"file_data\",\n",
      "    \"score\": 0.746988058,\n",
      "    \"id\": \"sustainingprogress_553\",\n",
      "    \"values\": [],\n",
      "    \"metadata\": {\n",
      "        \"Content\": \"Overall, the results of the survey indicate that students are concerned about major environmental issues that our society faces and feel that the university should continue to advance efforts to address these issues. It also highlights personal versus institutional responsibility to sustainability.  Understanding more about how students relate to sustainability, their personal values, and their lifestyle choices is essential in shaping outreach, education, and opportunities that align with their values and priorities. By continually fostering a campus culture that prioritizes sustainability, UMD enhances student engagement and empowers student leaders to advocate for innovative solutions to the pressing challenges of climate change.  \",\n",
      "        \"Header\": \"\",\n",
      "        \"Link\": \"https://sustainingprogress.umd.edu/celebrating-stories/2018-student-concern-environment-has-increased\",\n",
      "        \"Site_Title\": \"Since 2018, Student Concern for the Environment has Increased | Office of Sustainability\"\n",
      "    }\n",
      "}]\n"
     ]
    }
   ],
   "source": [
    "piped = rag.pipe(\"What are some of the challenges of sustainability at UMD?\", include_metadata=True)\n",
    "print(f\"AI:\\n{piped['answer'].content}\")\n",
    "print()\n",
    "meta = piped['metadata']\n",
    "print(f\"Metadata:\\n{meta}\")"
   ]
  },
  {
   "cell_type": "code",
   "execution_count": 35,
   "id": "c11d2e0f",
   "metadata": {},
   "outputs": [
    {
     "name": "stdout",
     "output_type": "stream",
     "text": [
      "Top 3 retrieved documents:\n",
      "1. sustainability_119\n",
      "- Text: Campus programs you can take part in University initiatives to address sustainability in these areas UMD's key goals, achievements, and commitments \n",
      "- Link: https://sustainability.umd.edu/topics\n",
      "- Score: 0.77050668\n",
      "\n",
      "2. sustainingprogress_220\n",
      "- Text: All Schools and Colleges at UMD include academic and research opportunities relating to sustainability. Staff and administrative teams throughout the university incorporate sustainability into the university operations. We're committed to addressing the grand challenges of climate change and sustainability. The SustainableUMD Network connects students, staff, faculty, and other community members to sustainability-related opportunities at UMD. This section curates a collection of resources -- reports, articles, newsletters, social media accounts, and other resources -- created by many sustainability-affiliated units across campus. \n",
      "- Link: https://sustainingprogress.umd.edu/celebrating-stories\n",
      "- Score: 0.770001054\n",
      "\n",
      "3. sustainingprogress_619\n",
      "- Text: Each of the sections below provides an interactive summary that gives an example of UMD’s progress towards sustainability on campus and beyond. \n",
      "- Link: https://sustainingprogress.umd.edu/2020-2021-year-in-review\n",
      "- Score: 0.76315552\n",
      "\n",
      "\n"
     ]
    }
   ],
   "source": [
    "a = my_utils.organize_retrieval(meta)\n",
    "print(a)"
   ]
  },
  {
   "cell_type": "code",
   "execution_count": null,
   "id": "b49723d8",
   "metadata": {},
   "outputs": [],
   "source": []
  }
 ],
 "metadata": {
  "kernelspec": {
   "display_name": "venv",
   "language": "python",
   "name": "python3"
  },
  "language_info": {
   "codemirror_mode": {
    "name": "ipython",
    "version": 3
   },
   "file_extension": ".py",
   "mimetype": "text/x-python",
   "name": "python",
   "nbconvert_exporter": "python",
   "pygments_lexer": "ipython3",
   "version": "3.12.10"
  }
 },
 "nbformat": 4,
 "nbformat_minor": 5
}
